{
 "cells": [
  {
   "cell_type": "markdown",
   "id": "777ef31b",
   "metadata": {},
   "source": [
    "# Evaluation\n",
    "\n",
    "**Metric:** Root-Mean-Squared-Error (RMSE) between the logarithm of the predicted value and the logarithm of the observed sales price. \n"
   ]
  },
  {
   "cell_type": "code",
   "execution_count": 3,
   "id": "20bbf76c",
   "metadata": {
    "ExecuteTime": {
     "end_time": "2023-02-25T00:48:27.759785Z",
     "start_time": "2023-02-25T00:48:27.754534Z"
    }
   },
   "outputs": [
    {
     "data": {
      "text/plain": [
       "['results.csv']"
      ]
     },
     "execution_count": 3,
     "metadata": {},
     "output_type": "execute_result"
    }
   ],
   "source": [
    "# Students files\n",
    "from glob import glob\n",
    "\n",
    "files = glob(\"results*\")\n",
    "files"
   ]
  },
  {
   "cell_type": "code",
   "execution_count": 4,
   "id": "595b0ae2",
   "metadata": {
    "ExecuteTime": {
     "end_time": "2023-02-25T00:48:30.309651Z",
     "start_time": "2023-02-25T00:48:30.307084Z"
    }
   },
   "outputs": [],
   "source": [
    "# Ground truth files\n",
    "\n",
    "ground_truth = \"test_prediction.csv\""
   ]
  },
  {
   "cell_type": "code",
   "execution_count": 5,
   "id": "e7539c2e",
   "metadata": {
    "ExecuteTime": {
     "end_time": "2023-02-25T00:48:32.273954Z",
     "start_time": "2023-02-25T00:48:31.730908Z"
    }
   },
   "outputs": [],
   "source": [
    "# Define metrics\n",
    "from numpy import log, sqrt\n",
    "from sklearn.metrics import mean_squared_error\n",
    "\n",
    "def metric(y_true, y_pred):\n",
    "    return sqrt(mean_squared_error(log(y_true), log(y_pred)))"
   ]
  },
  {
   "cell_type": "code",
   "execution_count": 6,
   "id": "979b2275",
   "metadata": {
    "ExecuteTime": {
     "end_time": "2023-02-25T00:48:32.797880Z",
     "start_time": "2023-02-25T00:48:32.794214Z"
    }
   },
   "outputs": [],
   "source": [
    "# Compare 2 lists\n",
    "def compare(l1, l2):\n",
    "    error = sum([1 for i, j in zip(l1,l2) if i!=j])\n",
    "    if error!=0:\n",
    "        diff = [(i,j) for i, j in zip(l1,l2) if i!=j]\n",
    "        print(diff)\n",
    "    return error\n"
   ]
  },
  {
   "cell_type": "code",
   "execution_count": 8,
   "id": "4d79633c",
   "metadata": {
    "ExecuteTime": {
     "end_time": "2023-02-25T00:49:22.889373Z",
     "start_time": "2023-02-25T00:49:22.872794Z"
    }
   },
   "outputs": [
    {
     "ename": "NameError",
     "evalue": "name 'name' is not defined",
     "output_type": "error",
     "traceback": [
      "\u001b[0;31m---------------------------------------------------------------------------\u001b[0m",
      "\u001b[0;31mNameError\u001b[0m                                 Traceback (most recent call last)",
      "\u001b[0;32m/var/folders/nd/7jm80_1x1gs9tsygrw6cg_9h0000gn/T/ipykernel_7935/333737591.py\u001b[0m in \u001b[0;36m<module>\u001b[0;34m\u001b[0m\n\u001b[1;32m     17\u001b[0m             \u001b[0mscore\u001b[0m\u001b[0;34m[\u001b[0m\u001b[0mname\u001b[0m\u001b[0;34m]\u001b[0m \u001b[0;34m=\u001b[0m \u001b[0;36m5000\u001b[0m\u001b[0;34m\u001b[0m\u001b[0;34m\u001b[0m\u001b[0m\n\u001b[1;32m     18\u001b[0m         \u001b[0;32melse\u001b[0m\u001b[0;34m:\u001b[0m\u001b[0;34m\u001b[0m\u001b[0;34m\u001b[0m\u001b[0m\n\u001b[0;32m---> 19\u001b[0;31m             \u001b[0mscore\u001b[0m\u001b[0;34m[\u001b[0m\u001b[0mname\u001b[0m\u001b[0;34m]\u001b[0m \u001b[0;34m=\u001b[0m \u001b[0mmetric\u001b[0m\u001b[0;34m(\u001b[0m\u001b[0mdf_true\u001b[0m\u001b[0;34m[\u001b[0m\u001b[0;34m'SalePrice'\u001b[0m\u001b[0;34m]\u001b[0m\u001b[0;34m,\u001b[0m \u001b[0mdf_pred\u001b[0m\u001b[0;34m[\u001b[0m\u001b[0;34m'SalePrice'\u001b[0m\u001b[0;34m]\u001b[0m\u001b[0;34m)\u001b[0m\u001b[0;34m\u001b[0m\u001b[0;34m\u001b[0m\u001b[0m\n\u001b[0m\u001b[1;32m     20\u001b[0m             \u001b[0mprint\u001b[0m\u001b[0;34m(\u001b[0m\u001b[0;34m\"%s: %.2f\"\u001b[0m \u001b[0;34m%\u001b[0m \u001b[0;34m(\u001b[0m\u001b[0msf\u001b[0m\u001b[0;34m,\u001b[0m \u001b[0mscore\u001b[0m\u001b[0;34m[\u001b[0m\u001b[0mname\u001b[0m\u001b[0;34m]\u001b[0m\u001b[0;34m)\u001b[0m\u001b[0;34m)\u001b[0m\u001b[0;34m\u001b[0m\u001b[0;34m\u001b[0m\u001b[0m\n\u001b[1;32m     21\u001b[0m     \u001b[0;32mexcept\u001b[0m \u001b[0mValueError\u001b[0m\u001b[0;34m:\u001b[0m\u001b[0;34m\u001b[0m\u001b[0;34m\u001b[0m\u001b[0m\n",
      "\u001b[0;31mNameError\u001b[0m: name 'name' is not defined"
     ]
    }
   ],
   "source": [
    "from pandas import read_csv\n",
    "# Evaluate all files\n",
    "\n",
    "# Read ground truth\n",
    "df_true = read_csv(ground_truth).sort_values('id')\n",
    "\n",
    "score = {}\n",
    "\n",
    "df_pred = read_csv(sf).sort_values('id')\n",
    "if compare(df_true['id'], df_pred['id']) != 0:\n",
    "            print(\"error in %s file\" % (sf))\n",
    "            score[name] = 5000\n",
    "else:\n",
    "    score[name] = metric(df_true['SalePrice'], df_pred['SalePrice'])\n",
    "    print(\"%s: %.2f\" % (sf, score[name]))\n",
    "for sf in files:\n",
    "    name = sf.split('_')[1].split('.')[0]\n",
    "    try:\n",
    "        # Read the file\n",
    "        df_pred = read_csv(sf).sort_values('id')\n",
    "        \n",
    "        # Compare the submission\n",
    "        if compare(df_true['id'], df_pred['id']) != 0:\n",
    "            print(\"error in %s file\" % (sf))\n",
    "            score[name] = 5000\n",
    "        else:\n",
    "            score[name] = metric(df_true['SalePrice'], df_pred['SalePrice'])\n",
    "            print(\"%s: %.2f\" % (sf, score[name]))\n",
    "    except ValueError:\n",
    "        score[name] = 9999\n",
    "        print(\"no data in %s file\" % (sf))"
   ]
  },
  {
   "cell_type": "code",
   "execution_count": 16,
   "id": "0a905ca1",
   "metadata": {
    "ExecuteTime": {
     "end_time": "2023-01-09T17:24:09.507234Z",
     "start_time": "2023-01-09T17:24:09.494947Z"
    }
   },
   "outputs": [],
   "source": [
    "score = dict(sorted(score.items(), key=lambda item: item[1]))"
   ]
  },
  {
   "cell_type": "code",
   "execution_count": 17,
   "id": "41f7daa8",
   "metadata": {},
   "outputs": [
    {
     "data": {
      "text/plain": [
       "{'hyelim': 0.13533019005859193}"
      ]
     },
     "execution_count": 17,
     "metadata": {},
     "output_type": "execute_result"
    }
   ],
   "source": [
    "score"
   ]
  },
  {
   "cell_type": "code",
   "execution_count": 18,
   "id": "39185fb1",
   "metadata": {
    "ExecuteTime": {
     "end_time": "2023-01-09T17:24:09.554689Z",
     "start_time": "2023-01-09T17:24:09.521563Z"
    }
   },
   "outputs": [
    {
     "name": "stdout",
     "output_type": "stream",
     "text": [
      "    hyelim: 0.135\n"
     ]
    }
   ],
   "source": [
    "for k, v in score.items():\n",
    "    print(\"%10s: %.3f\" % (k, v))"
   ]
  },
  {
   "cell_type": "code",
   "execution_count": null,
   "id": "3e3a074d",
   "metadata": {},
   "outputs": [],
   "source": []
  },
  {
   "cell_type": "code",
   "execution_count": null,
   "id": "58bccf13",
   "metadata": {},
   "outputs": [],
   "source": []
  },
  {
   "cell_type": "code",
   "execution_count": null,
   "id": "21a92129",
   "metadata": {},
   "outputs": [],
   "source": []
  }
 ],
 "metadata": {
  "hide_input": false,
  "kernelspec": {
   "display_name": "Python 3 (ipykernel)",
   "language": "python",
   "name": "python3"
  },
  "language_info": {
   "codemirror_mode": {
    "name": "ipython",
    "version": 3
   },
   "file_extension": ".py",
   "mimetype": "text/x-python",
   "name": "python",
   "nbconvert_exporter": "python",
   "pygments_lexer": "ipython3",
   "version": "3.9.13"
  },
  "toc": {
   "base_numbering": 1,
   "nav_menu": {},
   "number_sections": true,
   "sideBar": true,
   "skip_h1_title": false,
   "title_cell": "Table of Contents",
   "title_sidebar": "Contents",
   "toc_cell": false,
   "toc_position": {},
   "toc_section_display": true,
   "toc_window_display": false
  },
  "varInspector": {
   "cols": {
    "lenName": 16,
    "lenType": 16,
    "lenVar": 40
   },
   "kernels_config": {
    "python": {
     "delete_cmd_postfix": "",
     "delete_cmd_prefix": "del ",
     "library": "var_list.py",
     "varRefreshCmd": "print(var_dic_list())"
    },
    "r": {
     "delete_cmd_postfix": ") ",
     "delete_cmd_prefix": "rm(",
     "library": "var_list.r",
     "varRefreshCmd": "cat(var_dic_list()) "
    }
   },
   "types_to_exclude": [
    "module",
    "function",
    "builtin_function_or_method",
    "instance",
    "_Feature"
   ],
   "window_display": false
  }
 },
 "nbformat": 4,
 "nbformat_minor": 5
}
