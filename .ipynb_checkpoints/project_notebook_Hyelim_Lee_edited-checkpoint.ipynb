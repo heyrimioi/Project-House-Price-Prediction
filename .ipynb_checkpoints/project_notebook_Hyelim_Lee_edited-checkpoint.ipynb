{
 "cells": [
  {
   "cell_type": "markdown",
   "id": "4faeb3ff",
   "metadata": {
    "id": "4faeb3ff"
   },
   "source": [
    "# Project description\n",
    "\n",
    "\n",
    "Ask a buyer to describe their dream home and they probably won't start with basement ceiling height or proximity to an east-west rail line. But the data set from this playground contest proves that price negotiations are influenced by much more than the number of bedrooms or a white picket fence.\n",
    "\n",
    "![](https://storage.googleapis.com/kaggle-competitions/kaggle/5407/media/housesbanner.png)\n",
    "\n",
    "This dataset contains 79 explanatory variables describing almost every aspect of residential homes in Ames, Iowa. "
   ]
  },
  {
   "cell_type": "markdown",
   "id": "a63194d9",
   "metadata": {
    "id": "a63194d9"
   },
   "source": [
    "**Goal:** It is your job to predict the sales price for each house using everything you have learned so far. If **you use a model not presented in class, you must justify it, explain how it works and describe precisely the role of each of the hyper-parameters**. For each Id in the test set, you must predict the value of the SalePrice variable. \n",
    "\n",
    "**Metric:** Predictions are evaluated on Root-Mean-Squared-Error (RMSE) between the logarithm of the predicted value and the logarithm of the observed sales price. (Taking logs means that errors in predicting expensive houses and cheap houses will affect the result equally.)\n",
    "\n",
    "**Homework submission**: You must upload a zip archive containing 3 files to``lms.univ-cotedazur.fr`:\n",
    "\n",
    "* A `pdf` report describing for each of the selected features the treatment performed\n",
    "* A `jupyter notebook` performing the preprocessing, each step of which is inserted into a sklearn or imblearn pipeline (you must leave traces of notebook executions. The first cell should have the number 1, the second the number 2, etc.)\n",
    "* A `result.csv` should contain your prediction for each of the properties in tthe test set in the the following format:\n",
    "<pre>\n",
    "        Id,SalePrice\n",
    "        1461,169000.9876\n",
    "        1462,187724.1233\n",
    "        1463,175221.1928\n",
    "        etc.\n",
    "</pre>\n",
    "\n",
    "The scale will be as follows:\n",
    "* 8 points on the quality of the preprocessing and its description from the report \n",
    "* 8 points on the quality and correctness of the code contained in the notebook\n",
    "* 4 points on the quality of the model produced"
   ]
  },
  {
   "cell_type": "markdown",
   "id": "cd1dab3d",
   "metadata": {
    "id": "cd1dab3d"
   },
   "source": [
    "Here's a brief version of what you'll find in the data description file.\n",
    "\n",
    "* SalePrice - the property's sale price in dollars. This is the target variable that you're trying to predict.\n",
    "* MSSubClass: The building class\n",
    "* MSZoning: The general zoning classification\n",
    "* LotFrontage: Linear feet of street connected to property\n",
    "* LotArea: Lot size in square feet\n",
    "* Street: Type of road access\n",
    "* Alley: Type of alley access\n",
    "* LotShape: General shape of property\n",
    "* LandContour: Flatness of the property\n",
    "* Utilities: Type of utilities available\n",
    "* LotConfig: Lot configuration\n",
    "* LandSlope: Slope of property\n",
    "* Neighborhood: Physical locations within Ames city limits\n",
    "* Condition1: Proximity to main road or railroad\n",
    "* Condition2: Proximity to main road or railroad (if a second is present)\n",
    "* BldgType: Type of dwelling\n",
    "* HouseStyle: Style of dwelling\n",
    "* OverallQual: Overall material and finish quality\n",
    "* OverallCond: Overall condition rating\n",
    "* YearBuilt: Original construction date\n",
    "* YearRemodAdd: Remodel date\n",
    "* RoofStyle: Type of roof\n",
    "* RoofMatl: Roof material\n",
    "* Exterior1st: Exterior covering on house\n",
    "* Exterior2nd: Exterior covering on house (if more than one material)\n",
    "* MasVnrType: Masonry veneer type\n",
    "* MasVnrArea: Masonry veneer area in square feet\n",
    "* ExterQual: Exterior material quality\n",
    "* ExterCond: Present condition of the material on the exterior\n",
    "* Foundation: Type of foundation\n",
    "* BsmtQual: Height of the basement\n",
    "* BsmtCond: General condition of the basement\n",
    "* BsmtExposure: Walkout or garden level basement walls\n",
    "* BsmtFinType1: Quality of basement finished area\n",
    "* BsmtFinSF1: Type 1 finished square feet\n",
    "* BsmtFinType2: Quality of second finished area (if present)\n",
    "* BsmtFinSF2: Type 2 finished square feet\n",
    "* BsmtUnfSF: Unfinished square feet of basement area\n",
    "* TotalBsmtSF: Total square feet of basement area\n",
    "* Heating: Type of heating\n",
    "* HeatingQC: Heating quality and condition\n",
    "* CentralAir: Central air conditioning\n",
    "* Electrical: Electrical system\n",
    "* 1stFlrSF: First Floor square feet\n",
    "* 2ndFlrSF: Second floor square feet\n",
    "* LowQualFinSF: Low quality finished square feet (all floors)\n",
    "* GrLivArea: Above grade (ground) living area square feet\n",
    "* BsmtFullBath: Basement full bathrooms\n",
    "* BsmtHalfBath: Basement half bathrooms\n",
    "* FullBath: Full bathrooms above grade\n",
    "* HalfBath: Half baths above grade\n",
    "* Bedroom: Number of bedrooms above basement level\n",
    "* Kitchen: Number of kitchens\n",
    "* KitchenQual: Kitchen quality\n",
    "* TotRmsAbvGrd: Total rooms above grade (does not include bathrooms)\n",
    "* Functional: Home functionality rating\n",
    "* Fireplaces: Number of fireplaces\n",
    "* FireplaceQu: Fireplace quality\n",
    "* GarageType: Garage location\n",
    "* GarageYrBlt: Year garage was built\n",
    "* GarageFinish: Interior finish of the garage\n",
    "* GarageCars: Size of garage in car capacity\n",
    "* GarageArea: Size of garage in square feet\n",
    "* GarageQual: Garage quality\n",
    "* GarageCond: Garage condition\n",
    "* PavedDrive: Paved driveway\n",
    "* WoodDeckSF: Wood deck area in square feet\n",
    "* OpenPorchSF: Open porch area in square feet\n",
    "* EnclosedPorch: Enclosed porch area in square feet\n",
    "* 3SsnPorch: Three season porch area in square feet\n",
    "* ScreenPorch: Screen porch area in square feet\n",
    "* PoolArea: Pool area in square feet\n",
    "* PoolQC: Pool quality\n",
    "* Fence: Fence quality\n",
    "* MiscFeature: Miscellaneous feature not covered in other categories\n",
    "* MiscVal: $Value of miscellaneous feature\n",
    "* MoSold: Month Sold\n",
    "* YrSold: Year Sold\n",
    "* SaleType: Type of sale\n",
    "* SaleCondition: Condition of sale\n",
    "\n",
    "more detail about the features on `data_description.txt`files"
   ]
  },
  {
   "cell_type": "markdown",
   "id": "64507343",
   "metadata": {
    "id": "64507343"
   },
   "source": [
    "## Load Data"
   ]
  },
  {
   "cell_type": "code",
   "execution_count": 1,
   "id": "ecc0e2b8",
   "metadata": {
    "ExecuteTime": {
     "end_time": "2023-02-25T00:53:46.821247Z",
     "start_time": "2023-02-25T00:53:45.575832Z"
    },
    "colab": {
     "base_uri": "https://localhost:8080/",
     "height": 255
    },
    "id": "ecc0e2b8",
    "outputId": "203b3fa6-d75d-4591-b678-6e6297c5bffc"
   },
   "outputs": [
    {
     "name": "stdout",
     "output_type": "stream",
     "text": [
      "1000\n"
     ]
    },
    {
     "data": {
      "text/html": [
       "<div>\n",
       "<style scoped>\n",
       "    .dataframe tbody tr th:only-of-type {\n",
       "        vertical-align: middle;\n",
       "    }\n",
       "\n",
       "    .dataframe tbody tr th {\n",
       "        vertical-align: top;\n",
       "    }\n",
       "\n",
       "    .dataframe thead th {\n",
       "        text-align: right;\n",
       "    }\n",
       "</style>\n",
       "<table border=\"1\" class=\"dataframe\">\n",
       "  <thead>\n",
       "    <tr style=\"text-align: right;\">\n",
       "      <th></th>\n",
       "      <th>MSSubClass</th>\n",
       "      <th>MSZoning</th>\n",
       "      <th>LotFrontage</th>\n",
       "      <th>LotArea</th>\n",
       "      <th>Street</th>\n",
       "      <th>Alley</th>\n",
       "      <th>LotShape</th>\n",
       "      <th>LandContour</th>\n",
       "      <th>Utilities</th>\n",
       "      <th>LotConfig</th>\n",
       "      <th>...</th>\n",
       "      <th>PoolArea</th>\n",
       "      <th>PoolQC</th>\n",
       "      <th>Fence</th>\n",
       "      <th>MiscFeature</th>\n",
       "      <th>MiscVal</th>\n",
       "      <th>MoSold</th>\n",
       "      <th>YrSold</th>\n",
       "      <th>SaleType</th>\n",
       "      <th>SaleCondition</th>\n",
       "      <th>SalePrice</th>\n",
       "    </tr>\n",
       "  </thead>\n",
       "  <tbody>\n",
       "    <tr>\n",
       "      <th>0</th>\n",
       "      <td>60</td>\n",
       "      <td>RL</td>\n",
       "      <td>65.0</td>\n",
       "      <td>8450</td>\n",
       "      <td>Pave</td>\n",
       "      <td>NaN</td>\n",
       "      <td>Reg</td>\n",
       "      <td>Lvl</td>\n",
       "      <td>AllPub</td>\n",
       "      <td>Inside</td>\n",
       "      <td>...</td>\n",
       "      <td>0</td>\n",
       "      <td>NaN</td>\n",
       "      <td>NaN</td>\n",
       "      <td>NaN</td>\n",
       "      <td>0</td>\n",
       "      <td>2</td>\n",
       "      <td>2008</td>\n",
       "      <td>WD</td>\n",
       "      <td>Normal</td>\n",
       "      <td>208500</td>\n",
       "    </tr>\n",
       "    <tr>\n",
       "      <th>1</th>\n",
       "      <td>20</td>\n",
       "      <td>RL</td>\n",
       "      <td>80.0</td>\n",
       "      <td>9600</td>\n",
       "      <td>Pave</td>\n",
       "      <td>NaN</td>\n",
       "      <td>Reg</td>\n",
       "      <td>Lvl</td>\n",
       "      <td>AllPub</td>\n",
       "      <td>FR2</td>\n",
       "      <td>...</td>\n",
       "      <td>0</td>\n",
       "      <td>NaN</td>\n",
       "      <td>NaN</td>\n",
       "      <td>NaN</td>\n",
       "      <td>0</td>\n",
       "      <td>5</td>\n",
       "      <td>2007</td>\n",
       "      <td>WD</td>\n",
       "      <td>Normal</td>\n",
       "      <td>181500</td>\n",
       "    </tr>\n",
       "    <tr>\n",
       "      <th>2</th>\n",
       "      <td>60</td>\n",
       "      <td>RL</td>\n",
       "      <td>68.0</td>\n",
       "      <td>11250</td>\n",
       "      <td>Pave</td>\n",
       "      <td>NaN</td>\n",
       "      <td>IR1</td>\n",
       "      <td>Lvl</td>\n",
       "      <td>AllPub</td>\n",
       "      <td>Inside</td>\n",
       "      <td>...</td>\n",
       "      <td>0</td>\n",
       "      <td>NaN</td>\n",
       "      <td>NaN</td>\n",
       "      <td>NaN</td>\n",
       "      <td>0</td>\n",
       "      <td>9</td>\n",
       "      <td>2008</td>\n",
       "      <td>WD</td>\n",
       "      <td>Normal</td>\n",
       "      <td>223500</td>\n",
       "    </tr>\n",
       "  </tbody>\n",
       "</table>\n",
       "<p>3 rows × 80 columns</p>\n",
       "</div>"
      ],
      "text/plain": [
       "   MSSubClass MSZoning  LotFrontage  LotArea Street Alley LotShape  \\\n",
       "0          60       RL         65.0     8450   Pave   NaN      Reg   \n",
       "1          20       RL         80.0     9600   Pave   NaN      Reg   \n",
       "2          60       RL         68.0    11250   Pave   NaN      IR1   \n",
       "\n",
       "  LandContour Utilities LotConfig  ... PoolArea PoolQC Fence MiscFeature  \\\n",
       "0         Lvl    AllPub    Inside  ...        0    NaN   NaN         NaN   \n",
       "1         Lvl    AllPub       FR2  ...        0    NaN   NaN         NaN   \n",
       "2         Lvl    AllPub    Inside  ...        0    NaN   NaN         NaN   \n",
       "\n",
       "  MiscVal MoSold  YrSold  SaleType  SaleCondition  SalePrice  \n",
       "0       0      2    2008        WD         Normal     208500  \n",
       "1       0      5    2007        WD         Normal     181500  \n",
       "2       0      9    2008        WD         Normal     223500  \n",
       "\n",
       "[3 rows x 80 columns]"
      ]
     },
     "execution_count": 1,
     "metadata": {},
     "output_type": "execute_result"
    }
   ],
   "source": [
    "# Read train files\n",
    "import pandas as pd\n",
    "\n",
    "df_train = pd.read_csv(\"Data/train.csv\", index_col=0)\n",
    "print(len(df_train))\n",
    "df_train.head(3)"
   ]
  },
  {
   "cell_type": "code",
   "execution_count": 2,
   "id": "a5b7fb63",
   "metadata": {
    "ExecuteTime": {
     "end_time": "2023-02-25T00:53:46.858138Z",
     "start_time": "2023-02-25T00:53:46.828365Z"
    },
    "colab": {
     "base_uri": "https://localhost:8080/",
     "height": 286
    },
    "id": "a5b7fb63",
    "outputId": "77e6e463-488a-45b4-e37c-ab75a5e3a6ab"
   },
   "outputs": [
    {
     "name": "stdout",
     "output_type": "stream",
     "text": [
      "460\n"
     ]
    },
    {
     "data": {
      "text/html": [
       "<div>\n",
       "<style scoped>\n",
       "    .dataframe tbody tr th:only-of-type {\n",
       "        vertical-align: middle;\n",
       "    }\n",
       "\n",
       "    .dataframe tbody tr th {\n",
       "        vertical-align: top;\n",
       "    }\n",
       "\n",
       "    .dataframe thead th {\n",
       "        text-align: right;\n",
       "    }\n",
       "</style>\n",
       "<table border=\"1\" class=\"dataframe\">\n",
       "  <thead>\n",
       "    <tr style=\"text-align: right;\">\n",
       "      <th></th>\n",
       "      <th>MSSubClass</th>\n",
       "      <th>MSZoning</th>\n",
       "      <th>LotFrontage</th>\n",
       "      <th>LotArea</th>\n",
       "      <th>Street</th>\n",
       "      <th>Alley</th>\n",
       "      <th>LotShape</th>\n",
       "      <th>LandContour</th>\n",
       "      <th>Utilities</th>\n",
       "      <th>LotConfig</th>\n",
       "      <th>...</th>\n",
       "      <th>ScreenPorch</th>\n",
       "      <th>PoolArea</th>\n",
       "      <th>PoolQC</th>\n",
       "      <th>Fence</th>\n",
       "      <th>MiscFeature</th>\n",
       "      <th>MiscVal</th>\n",
       "      <th>MoSold</th>\n",
       "      <th>YrSold</th>\n",
       "      <th>SaleType</th>\n",
       "      <th>SaleCondition</th>\n",
       "    </tr>\n",
       "    <tr>\n",
       "      <th>id</th>\n",
       "      <th></th>\n",
       "      <th></th>\n",
       "      <th></th>\n",
       "      <th></th>\n",
       "      <th></th>\n",
       "      <th></th>\n",
       "      <th></th>\n",
       "      <th></th>\n",
       "      <th></th>\n",
       "      <th></th>\n",
       "      <th></th>\n",
       "      <th></th>\n",
       "      <th></th>\n",
       "      <th></th>\n",
       "      <th></th>\n",
       "      <th></th>\n",
       "      <th></th>\n",
       "      <th></th>\n",
       "      <th></th>\n",
       "      <th></th>\n",
       "      <th></th>\n",
       "    </tr>\n",
       "  </thead>\n",
       "  <tbody>\n",
       "    <tr>\n",
       "      <th>1000</th>\n",
       "      <td>20</td>\n",
       "      <td>RL</td>\n",
       "      <td>74.0</td>\n",
       "      <td>10206</td>\n",
       "      <td>Pave</td>\n",
       "      <td>NaN</td>\n",
       "      <td>Reg</td>\n",
       "      <td>Lvl</td>\n",
       "      <td>AllPub</td>\n",
       "      <td>Corner</td>\n",
       "      <td>...</td>\n",
       "      <td>0</td>\n",
       "      <td>0</td>\n",
       "      <td>NaN</td>\n",
       "      <td>NaN</td>\n",
       "      <td>NaN</td>\n",
       "      <td>0</td>\n",
       "      <td>7</td>\n",
       "      <td>2009</td>\n",
       "      <td>WD</td>\n",
       "      <td>Normal</td>\n",
       "    </tr>\n",
       "    <tr>\n",
       "      <th>1001</th>\n",
       "      <td>30</td>\n",
       "      <td>RL</td>\n",
       "      <td>60.0</td>\n",
       "      <td>5400</td>\n",
       "      <td>Pave</td>\n",
       "      <td>NaN</td>\n",
       "      <td>Reg</td>\n",
       "      <td>Lvl</td>\n",
       "      <td>AllPub</td>\n",
       "      <td>Corner</td>\n",
       "      <td>...</td>\n",
       "      <td>0</td>\n",
       "      <td>0</td>\n",
       "      <td>NaN</td>\n",
       "      <td>NaN</td>\n",
       "      <td>NaN</td>\n",
       "      <td>0</td>\n",
       "      <td>1</td>\n",
       "      <td>2007</td>\n",
       "      <td>WD</td>\n",
       "      <td>Abnorml</td>\n",
       "    </tr>\n",
       "    <tr>\n",
       "      <th>1002</th>\n",
       "      <td>20</td>\n",
       "      <td>RL</td>\n",
       "      <td>75.0</td>\n",
       "      <td>11957</td>\n",
       "      <td>Pave</td>\n",
       "      <td>NaN</td>\n",
       "      <td>IR1</td>\n",
       "      <td>Lvl</td>\n",
       "      <td>AllPub</td>\n",
       "      <td>Inside</td>\n",
       "      <td>...</td>\n",
       "      <td>0</td>\n",
       "      <td>0</td>\n",
       "      <td>NaN</td>\n",
       "      <td>NaN</td>\n",
       "      <td>NaN</td>\n",
       "      <td>0</td>\n",
       "      <td>7</td>\n",
       "      <td>2008</td>\n",
       "      <td>WD</td>\n",
       "      <td>Normal</td>\n",
       "    </tr>\n",
       "  </tbody>\n",
       "</table>\n",
       "<p>3 rows × 79 columns</p>\n",
       "</div>"
      ],
      "text/plain": [
       "      MSSubClass MSZoning  LotFrontage  LotArea Street Alley LotShape  \\\n",
       "id                                                                      \n",
       "1000          20       RL         74.0    10206   Pave   NaN      Reg   \n",
       "1001          30       RL         60.0     5400   Pave   NaN      Reg   \n",
       "1002          20       RL         75.0    11957   Pave   NaN      IR1   \n",
       "\n",
       "     LandContour Utilities LotConfig  ... ScreenPorch PoolArea PoolQC Fence  \\\n",
       "id                                    ...                                     \n",
       "1000         Lvl    AllPub    Corner  ...           0        0    NaN   NaN   \n",
       "1001         Lvl    AllPub    Corner  ...           0        0    NaN   NaN   \n",
       "1002         Lvl    AllPub    Inside  ...           0        0    NaN   NaN   \n",
       "\n",
       "     MiscFeature MiscVal  MoSold  YrSold  SaleType  SaleCondition  \n",
       "id                                                                 \n",
       "1000         NaN       0       7    2009        WD         Normal  \n",
       "1001         NaN       0       1    2007        WD        Abnorml  \n",
       "1002         NaN       0       7    2008        WD         Normal  \n",
       "\n",
       "[3 rows x 79 columns]"
      ]
     },
     "execution_count": 2,
     "metadata": {},
     "output_type": "execute_result"
    }
   ],
   "source": [
    "# Read test file\n",
    "df_test = pd.read_csv(\"Data/test.csv\", index_col=0)\n",
    "print(len(df_test))\n",
    "df_test.head(3)"
   ]
  },
  {
   "cell_type": "code",
   "execution_count": 3,
   "id": "ebc4141b",
   "metadata": {
    "ExecuteTime": {
     "end_time": "2023-02-25T00:53:46.872767Z",
     "start_time": "2023-02-25T00:53:46.861192Z"
    },
    "colab": {
     "base_uri": "https://localhost:8080/",
     "height": 143
    },
    "id": "ebc4141b",
    "outputId": "4033d17a-9df6-4fed-c74d-b1a10bf12af3"
   },
   "outputs": [
    {
     "data": {
      "text/html": [
       "<div>\n",
       "<style scoped>\n",
       "    .dataframe tbody tr th:only-of-type {\n",
       "        vertical-align: middle;\n",
       "    }\n",
       "\n",
       "    .dataframe tbody tr th {\n",
       "        vertical-align: top;\n",
       "    }\n",
       "\n",
       "    .dataframe thead th {\n",
       "        text-align: right;\n",
       "    }\n",
       "</style>\n",
       "<table border=\"1\" class=\"dataframe\">\n",
       "  <thead>\n",
       "    <tr style=\"text-align: right;\">\n",
       "      <th></th>\n",
       "      <th>SalePrice</th>\n",
       "    </tr>\n",
       "  </thead>\n",
       "  <tbody>\n",
       "    <tr>\n",
       "      <th>1461</th>\n",
       "      <td>169000.9876</td>\n",
       "    </tr>\n",
       "    <tr>\n",
       "      <th>1462</th>\n",
       "      <td>187724.1233</td>\n",
       "    </tr>\n",
       "    <tr>\n",
       "      <th>1463</th>\n",
       "      <td>187724.1233</td>\n",
       "    </tr>\n",
       "  </tbody>\n",
       "</table>\n",
       "</div>"
      ],
      "text/plain": [
       "        SalePrice\n",
       "1461  169000.9876\n",
       "1462  187724.1233\n",
       "1463  187724.1233"
      ]
     },
     "execution_count": 3,
     "metadata": {},
     "output_type": "execute_result"
    }
   ],
   "source": [
    "# Save my predictions\n",
    "df_results = pd.DataFrame(index=[1461,1462,1463],data={'SalePrice':[169000.9876,187724.1233,187724.1233]})\n",
    "df_results.to_csv(\"Data/results.csv\", index_label='id')\n",
    "df_results.head()"
   ]
  },
  {
   "cell_type": "markdown",
   "id": "958384e3",
   "metadata": {
    "id": "958384e3"
   },
   "source": [
    "## Load Libraries"
   ]
  },
  {
   "cell_type": "code",
   "execution_count": 4,
   "id": "97522d99",
   "metadata": {
    "ExecuteTime": {
     "end_time": "2023-02-25T00:53:49.140655Z",
     "start_time": "2023-02-25T00:53:46.874775Z"
    },
    "id": "97522d99"
   },
   "outputs": [],
   "source": [
    "# Essentials\n",
    "import numpy as np\n",
    "import pandas as pd\n",
    "import datetime\n",
    "import random\n",
    "\n",
    "# Plots\n",
    "import seaborn as sns\n",
    "import matplotlib.pyplot as plt\n",
    "import matplotlib.style as style\n",
    "style.use('fivethirtyeight')\n",
    "%config InlineBackend.figure_format = 'retina' \n",
    "%matplotlib inline\n",
    "\n",
    "# Feature selection\n",
    "from sklearn.model_selection import train_test_split\n",
    "from sklearn.metrics import r2_score\n",
    "import sys\n",
    "import joblib\n",
    "sys.modules['sklearn.externals.joblib'] = joblib\n",
    "from mlxtend.feature_selection import SequentialFeatureSelector as SFS\n",
    "from sklearn.feature_selection import mutual_info_regression\n",
    "\n",
    "# Models\n",
    "from sklearn.model_selection import train_test_split\n",
    "from sklearn.ensemble import RandomForestRegressor, GradientBoostingRegressor\n",
    "from sklearn.svm import SVR\n",
    "from mlxtend.regressor import StackingCVRegressor\n",
    "from lightgbm import LGBMRegressor\n",
    "from xgboost import XGBRegressor\n",
    "from sklearn.tree import DecisionTreeRegressor\n",
    "import xgboost as xgb\n",
    "import lightgbm as lgb\n",
    "\n",
    "# Stats\n",
    "from scipy import stats\n",
    "from scipy.stats import skew, norm\n",
    "\n",
    "# Misc\n",
    "from sklearn.model_selection import train_test_split\n",
    "from sklearn.model_selection import GridSearchCV\n",
    "from sklearn.model_selection import KFold, cross_val_score\n",
    "from sklearn.metrics import mean_absolute_error as mae, mean_squared_error as mse\n",
    "from sklearn.preprocessing import OneHotEncoder\n",
    "from sklearn.preprocessing import LabelEncoder\n",
    "from sklearn.preprocessing import StandardScaler, MinMaxScaler, RobustScaler\n",
    "from sklearn.pipeline import Pipeline, make_pipeline\n",
    "\n",
    "import warnings\n",
    "warnings.filterwarnings('ignore')\n"
   ]
  },
  {
   "cell_type": "markdown",
   "id": "2ecc3619",
   "metadata": {
    "id": "2ecc3619"
   },
   "source": [
    "# EDA"
   ]
  },
  {
   "cell_type": "code",
   "execution_count": 5,
   "id": "75dec8a5",
   "metadata": {
    "ExecuteTime": {
     "end_time": "2023-02-25T00:53:49.148768Z",
     "start_time": "2023-02-25T00:53:49.142623Z"
    },
    "colab": {
     "base_uri": "https://localhost:8080/"
    },
    "id": "75dec8a5",
    "outputId": "f5fba957-6b4b-4d13-9cbb-f08fb4ce6f3e"
   },
   "outputs": [
    {
     "data": {
      "text/plain": [
       "(1000, 80)"
      ]
     },
     "execution_count": 5,
     "metadata": {},
     "output_type": "execute_result"
    }
   ],
   "source": [
    "df_train.shape"
   ]
  },
  {
   "cell_type": "code",
   "execution_count": 6,
   "id": "6d1fca13",
   "metadata": {
    "ExecuteTime": {
     "end_time": "2023-02-25T00:53:49.156133Z",
     "start_time": "2023-02-25T00:53:49.150566Z"
    },
    "colab": {
     "base_uri": "https://localhost:8080/"
    },
    "id": "6d1fca13",
    "outputId": "2d62501e-e5c3-4919-905f-b9f08a27a420"
   },
   "outputs": [
    {
     "name": "stdout",
     "output_type": "stream",
     "text": [
      "37\n"
     ]
    }
   ],
   "source": [
    "num_cols = [feature for feature in df_train.columns if df_train[feature].dtypes != 'O']\n",
    "print(len(num_cols))"
   ]
  },
  {
   "cell_type": "code",
   "execution_count": 7,
   "id": "1d976f1d",
   "metadata": {
    "ExecuteTime": {
     "end_time": "2023-02-25T00:53:49.173944Z",
     "start_time": "2023-02-25T00:53:49.157971Z"
    },
    "colab": {
     "base_uri": "https://localhost:8080/"
    },
    "id": "1d976f1d",
    "outputId": "41586954-3b6f-4264-c86a-ea594c6a4064",
    "scrolled": true
   },
   "outputs": [
    {
     "name": "stdout",
     "output_type": "stream",
     "text": [
      "<class 'pandas.core.frame.DataFrame'>\n",
      "Int64Index: 1000 entries, 0 to 999\n",
      "Data columns (total 80 columns):\n",
      " #   Column         Non-Null Count  Dtype  \n",
      "---  ------         --------------  -----  \n",
      " 0   MSSubClass     1000 non-null   int64  \n",
      " 1   MSZoning       1000 non-null   object \n",
      " 2   LotFrontage    827 non-null    float64\n",
      " 3   LotArea        1000 non-null   int64  \n",
      " 4   Street         1000 non-null   object \n",
      " 5   Alley          65 non-null     object \n",
      " 6   LotShape       1000 non-null   object \n",
      " 7   LandContour    1000 non-null   object \n",
      " 8   Utilities      1000 non-null   object \n",
      " 9   LotConfig      1000 non-null   object \n",
      " 10  LandSlope      1000 non-null   object \n",
      " 11  Neighborhood   1000 non-null   object \n",
      " 12  Condition1     1000 non-null   object \n",
      " 13  Condition2     1000 non-null   object \n",
      " 14  BldgType       1000 non-null   object \n",
      " 15  HouseStyle     1000 non-null   object \n",
      " 16  OverallQual    1000 non-null   int64  \n",
      " 17  OverallCond    1000 non-null   int64  \n",
      " 18  YearBuilt      1000 non-null   int64  \n",
      " 19  YearRemodAdd   1000 non-null   int64  \n",
      " 20  RoofStyle      1000 non-null   object \n",
      " 21  RoofMatl       1000 non-null   object \n",
      " 22  Exterior1st    1000 non-null   object \n",
      " 23  Exterior2nd    1000 non-null   object \n",
      " 24  MasVnrType     994 non-null    object \n",
      " 25  MasVnrArea     994 non-null    float64\n",
      " 26  ExterQual      1000 non-null   object \n",
      " 27  ExterCond      1000 non-null   object \n",
      " 28  Foundation     1000 non-null   object \n",
      " 29  BsmtQual       976 non-null    object \n",
      " 30  BsmtCond       976 non-null    object \n",
      " 31  BsmtExposure   975 non-null    object \n",
      " 32  BsmtFinType1   976 non-null    object \n",
      " 33  BsmtFinSF1     1000 non-null   int64  \n",
      " 34  BsmtFinType2   975 non-null    object \n",
      " 35  BsmtFinSF2     1000 non-null   int64  \n",
      " 36  BsmtUnfSF      1000 non-null   int64  \n",
      " 37  TotalBsmtSF    1000 non-null   int64  \n",
      " 38  Heating        1000 non-null   object \n",
      " 39  HeatingQC      1000 non-null   object \n",
      " 40  CentralAir     1000 non-null   object \n",
      " 41  Electrical     1000 non-null   object \n",
      " 42  1stFlrSF       1000 non-null   int64  \n",
      " 43  2ndFlrSF       1000 non-null   int64  \n",
      " 44  LowQualFinSF   1000 non-null   int64  \n",
      " 45  GrLivArea      1000 non-null   int64  \n",
      " 46  BsmtFullBath   1000 non-null   int64  \n",
      " 47  BsmtHalfBath   1000 non-null   int64  \n",
      " 48  FullBath       1000 non-null   int64  \n",
      " 49  HalfBath       1000 non-null   int64  \n",
      " 50  BedroomAbvGr   1000 non-null   int64  \n",
      " 51  KitchenAbvGr   1000 non-null   int64  \n",
      " 52  KitchenQual    1000 non-null   object \n",
      " 53  TotRmsAbvGrd   1000 non-null   int64  \n",
      " 54  Functional     1000 non-null   object \n",
      " 55  Fireplaces     1000 non-null   int64  \n",
      " 56  FireplaceQu    522 non-null    object \n",
      " 57  GarageType     944 non-null    object \n",
      " 58  GarageYrBlt    944 non-null    float64\n",
      " 59  GarageFinish   944 non-null    object \n",
      " 60  GarageCars     1000 non-null   int64  \n",
      " 61  GarageArea     1000 non-null   int64  \n",
      " 62  GarageQual     944 non-null    object \n",
      " 63  GarageCond     944 non-null    object \n",
      " 64  PavedDrive     1000 non-null   object \n",
      " 65  WoodDeckSF     1000 non-null   int64  \n",
      " 66  OpenPorchSF    1000 non-null   int64  \n",
      " 67  EnclosedPorch  1000 non-null   int64  \n",
      " 68  3SsnPorch      1000 non-null   int64  \n",
      " 69  ScreenPorch    1000 non-null   int64  \n",
      " 70  PoolArea       1000 non-null   int64  \n",
      " 71  PoolQC         2 non-null      object \n",
      " 72  Fence          194 non-null    object \n",
      " 73  MiscFeature    43 non-null     object \n",
      " 74  MiscVal        1000 non-null   int64  \n",
      " 75  MoSold         1000 non-null   int64  \n",
      " 76  YrSold         1000 non-null   int64  \n",
      " 77  SaleType       1000 non-null   object \n",
      " 78  SaleCondition  1000 non-null   object \n",
      " 79  SalePrice      1000 non-null   int64  \n",
      "dtypes: float64(3), int64(34), object(43)\n",
      "memory usage: 632.8+ KB\n"
     ]
    }
   ],
   "source": [
    "df_train.info()"
   ]
  },
  {
   "cell_type": "code",
   "execution_count": 8,
   "id": "730776fd",
   "metadata": {
    "ExecuteTime": {
     "end_time": "2023-02-25T00:53:49.271035Z",
     "start_time": "2023-02-25T00:53:49.176555Z"
    },
    "colab": {
     "base_uri": "https://localhost:8080/",
     "height": 1000
    },
    "id": "730776fd",
    "outputId": "0510f9ab-e725-4453-8a21-f224d0553e2c",
    "scrolled": true
   },
   "outputs": [
    {
     "data": {
      "text/html": [
       "<div>\n",
       "<style scoped>\n",
       "    .dataframe tbody tr th:only-of-type {\n",
       "        vertical-align: middle;\n",
       "    }\n",
       "\n",
       "    .dataframe tbody tr th {\n",
       "        vertical-align: top;\n",
       "    }\n",
       "\n",
       "    .dataframe thead th {\n",
       "        text-align: right;\n",
       "    }\n",
       "</style>\n",
       "<table border=\"1\" class=\"dataframe\">\n",
       "  <thead>\n",
       "    <tr style=\"text-align: right;\">\n",
       "      <th></th>\n",
       "      <th>count</th>\n",
       "      <th>mean</th>\n",
       "      <th>std</th>\n",
       "      <th>min</th>\n",
       "      <th>25%</th>\n",
       "      <th>50%</th>\n",
       "      <th>75%</th>\n",
       "      <th>max</th>\n",
       "    </tr>\n",
       "  </thead>\n",
       "  <tbody>\n",
       "    <tr>\n",
       "      <th>MSSubClass</th>\n",
       "      <td>1000.0</td>\n",
       "      <td>56.880000</td>\n",
       "      <td>42.256375</td>\n",
       "      <td>20.0</td>\n",
       "      <td>20.00</td>\n",
       "      <td>50.0</td>\n",
       "      <td>70.00</td>\n",
       "      <td>190.0</td>\n",
       "    </tr>\n",
       "    <tr>\n",
       "      <th>LotFrontage</th>\n",
       "      <td>827.0</td>\n",
       "      <td>69.955260</td>\n",
       "      <td>23.202690</td>\n",
       "      <td>21.0</td>\n",
       "      <td>60.00</td>\n",
       "      <td>70.0</td>\n",
       "      <td>80.00</td>\n",
       "      <td>313.0</td>\n",
       "    </tr>\n",
       "    <tr>\n",
       "      <th>LotArea</th>\n",
       "      <td>1000.0</td>\n",
       "      <td>10691.176000</td>\n",
       "      <td>11412.668294</td>\n",
       "      <td>1300.0</td>\n",
       "      <td>7585.25</td>\n",
       "      <td>9451.0</td>\n",
       "      <td>11628.50</td>\n",
       "      <td>215245.0</td>\n",
       "    </tr>\n",
       "    <tr>\n",
       "      <th>OverallQual</th>\n",
       "      <td>1000.0</td>\n",
       "      <td>6.125000</td>\n",
       "      <td>1.383217</td>\n",
       "      <td>1.0</td>\n",
       "      <td>5.00</td>\n",
       "      <td>6.0</td>\n",
       "      <td>7.00</td>\n",
       "      <td>10.0</td>\n",
       "    </tr>\n",
       "    <tr>\n",
       "      <th>OverallCond</th>\n",
       "      <td>1000.0</td>\n",
       "      <td>5.587000</td>\n",
       "      <td>1.108901</td>\n",
       "      <td>1.0</td>\n",
       "      <td>5.00</td>\n",
       "      <td>5.0</td>\n",
       "      <td>6.00</td>\n",
       "      <td>9.0</td>\n",
       "    </tr>\n",
       "    <tr>\n",
       "      <th>YearBuilt</th>\n",
       "      <td>1000.0</td>\n",
       "      <td>1971.633000</td>\n",
       "      <td>30.007945</td>\n",
       "      <td>1880.0</td>\n",
       "      <td>1954.00</td>\n",
       "      <td>1974.0</td>\n",
       "      <td>2000.25</td>\n",
       "      <td>2010.0</td>\n",
       "    </tr>\n",
       "    <tr>\n",
       "      <th>YearRemodAdd</th>\n",
       "      <td>1000.0</td>\n",
       "      <td>1985.279000</td>\n",
       "      <td>20.412296</td>\n",
       "      <td>1950.0</td>\n",
       "      <td>1967.00</td>\n",
       "      <td>1994.0</td>\n",
       "      <td>2004.00</td>\n",
       "      <td>2010.0</td>\n",
       "    </tr>\n",
       "    <tr>\n",
       "      <th>MasVnrArea</th>\n",
       "      <td>994.0</td>\n",
       "      <td>109.225352</td>\n",
       "      <td>188.885856</td>\n",
       "      <td>0.0</td>\n",
       "      <td>0.00</td>\n",
       "      <td>0.0</td>\n",
       "      <td>174.75</td>\n",
       "      <td>1600.0</td>\n",
       "    </tr>\n",
       "    <tr>\n",
       "      <th>BsmtFinSF1</th>\n",
       "      <td>1000.0</td>\n",
       "      <td>445.214000</td>\n",
       "      <td>442.394927</td>\n",
       "      <td>0.0</td>\n",
       "      <td>0.00</td>\n",
       "      <td>384.5</td>\n",
       "      <td>725.00</td>\n",
       "      <td>2260.0</td>\n",
       "    </tr>\n",
       "    <tr>\n",
       "      <th>BsmtFinSF2</th>\n",
       "      <td>1000.0</td>\n",
       "      <td>48.301000</td>\n",
       "      <td>165.788070</td>\n",
       "      <td>0.0</td>\n",
       "      <td>0.00</td>\n",
       "      <td>0.0</td>\n",
       "      <td>0.00</td>\n",
       "      <td>1474.0</td>\n",
       "    </tr>\n",
       "    <tr>\n",
       "      <th>BsmtUnfSF</th>\n",
       "      <td>1000.0</td>\n",
       "      <td>567.797000</td>\n",
       "      <td>444.842319</td>\n",
       "      <td>0.0</td>\n",
       "      <td>226.50</td>\n",
       "      <td>474.0</td>\n",
       "      <td>808.00</td>\n",
       "      <td>2336.0</td>\n",
       "    </tr>\n",
       "    <tr>\n",
       "      <th>TotalBsmtSF</th>\n",
       "      <td>1000.0</td>\n",
       "      <td>1061.312000</td>\n",
       "      <td>421.945889</td>\n",
       "      <td>0.0</td>\n",
       "      <td>796.00</td>\n",
       "      <td>1004.0</td>\n",
       "      <td>1305.50</td>\n",
       "      <td>3206.0</td>\n",
       "    </tr>\n",
       "    <tr>\n",
       "      <th>1stFlrSF</th>\n",
       "      <td>1000.0</td>\n",
       "      <td>1156.953000</td>\n",
       "      <td>375.215801</td>\n",
       "      <td>334.0</td>\n",
       "      <td>876.75</td>\n",
       "      <td>1087.0</td>\n",
       "      <td>1389.50</td>\n",
       "      <td>3228.0</td>\n",
       "    </tr>\n",
       "    <tr>\n",
       "      <th>2ndFlrSF</th>\n",
       "      <td>1000.0</td>\n",
       "      <td>347.066000</td>\n",
       "      <td>437.882737</td>\n",
       "      <td>0.0</td>\n",
       "      <td>0.00</td>\n",
       "      <td>0.0</td>\n",
       "      <td>728.25</td>\n",
       "      <td>1872.0</td>\n",
       "    </tr>\n",
       "    <tr>\n",
       "      <th>LowQualFinSF</th>\n",
       "      <td>1000.0</td>\n",
       "      <td>6.474000</td>\n",
       "      <td>51.115733</td>\n",
       "      <td>0.0</td>\n",
       "      <td>0.00</td>\n",
       "      <td>0.0</td>\n",
       "      <td>0.00</td>\n",
       "      <td>572.0</td>\n",
       "    </tr>\n",
       "    <tr>\n",
       "      <th>GrLivArea</th>\n",
       "      <td>1000.0</td>\n",
       "      <td>1510.493000</td>\n",
       "      <td>512.296179</td>\n",
       "      <td>334.0</td>\n",
       "      <td>1125.75</td>\n",
       "      <td>1456.0</td>\n",
       "      <td>1774.25</td>\n",
       "      <td>4676.0</td>\n",
       "    </tr>\n",
       "    <tr>\n",
       "      <th>BsmtFullBath</th>\n",
       "      <td>1000.0</td>\n",
       "      <td>0.430000</td>\n",
       "      <td>0.524762</td>\n",
       "      <td>0.0</td>\n",
       "      <td>0.00</td>\n",
       "      <td>0.0</td>\n",
       "      <td>1.00</td>\n",
       "      <td>3.0</td>\n",
       "    </tr>\n",
       "    <tr>\n",
       "      <th>BsmtHalfBath</th>\n",
       "      <td>1000.0</td>\n",
       "      <td>0.058000</td>\n",
       "      <td>0.242270</td>\n",
       "      <td>0.0</td>\n",
       "      <td>0.00</td>\n",
       "      <td>0.0</td>\n",
       "      <td>0.00</td>\n",
       "      <td>2.0</td>\n",
       "    </tr>\n",
       "    <tr>\n",
       "      <th>FullBath</th>\n",
       "      <td>1000.0</td>\n",
       "      <td>1.566000</td>\n",
       "      <td>0.551315</td>\n",
       "      <td>0.0</td>\n",
       "      <td>1.00</td>\n",
       "      <td>2.0</td>\n",
       "      <td>2.00</td>\n",
       "      <td>3.0</td>\n",
       "    </tr>\n",
       "    <tr>\n",
       "      <th>HalfBath</th>\n",
       "      <td>1000.0</td>\n",
       "      <td>0.386000</td>\n",
       "      <td>0.499253</td>\n",
       "      <td>0.0</td>\n",
       "      <td>0.00</td>\n",
       "      <td>0.0</td>\n",
       "      <td>1.00</td>\n",
       "      <td>2.0</td>\n",
       "    </tr>\n",
       "    <tr>\n",
       "      <th>BedroomAbvGr</th>\n",
       "      <td>1000.0</td>\n",
       "      <td>2.855000</td>\n",
       "      <td>0.814026</td>\n",
       "      <td>0.0</td>\n",
       "      <td>2.00</td>\n",
       "      <td>3.0</td>\n",
       "      <td>3.00</td>\n",
       "      <td>8.0</td>\n",
       "    </tr>\n",
       "    <tr>\n",
       "      <th>KitchenAbvGr</th>\n",
       "      <td>1000.0</td>\n",
       "      <td>1.047000</td>\n",
       "      <td>0.225481</td>\n",
       "      <td>0.0</td>\n",
       "      <td>1.00</td>\n",
       "      <td>1.0</td>\n",
       "      <td>1.00</td>\n",
       "      <td>3.0</td>\n",
       "    </tr>\n",
       "    <tr>\n",
       "      <th>TotRmsAbvGrd</th>\n",
       "      <td>1000.0</td>\n",
       "      <td>6.495000</td>\n",
       "      <td>1.608901</td>\n",
       "      <td>2.0</td>\n",
       "      <td>5.00</td>\n",
       "      <td>6.0</td>\n",
       "      <td>7.00</td>\n",
       "      <td>14.0</td>\n",
       "    </tr>\n",
       "    <tr>\n",
       "      <th>Fireplaces</th>\n",
       "      <td>1000.0</td>\n",
       "      <td>0.610000</td>\n",
       "      <td>0.649863</td>\n",
       "      <td>0.0</td>\n",
       "      <td>0.00</td>\n",
       "      <td>1.0</td>\n",
       "      <td>1.00</td>\n",
       "      <td>3.0</td>\n",
       "    </tr>\n",
       "    <tr>\n",
       "      <th>GarageYrBlt</th>\n",
       "      <td>944.0</td>\n",
       "      <td>1978.681144</td>\n",
       "      <td>24.792266</td>\n",
       "      <td>1900.0</td>\n",
       "      <td>1961.00</td>\n",
       "      <td>1980.5</td>\n",
       "      <td>2002.00</td>\n",
       "      <td>2010.0</td>\n",
       "    </tr>\n",
       "    <tr>\n",
       "      <th>GarageCars</th>\n",
       "      <td>1000.0</td>\n",
       "      <td>1.765000</td>\n",
       "      <td>0.743187</td>\n",
       "      <td>0.0</td>\n",
       "      <td>1.00</td>\n",
       "      <td>2.0</td>\n",
       "      <td>2.00</td>\n",
       "      <td>4.0</td>\n",
       "    </tr>\n",
       "    <tr>\n",
       "      <th>GarageArea</th>\n",
       "      <td>1000.0</td>\n",
       "      <td>473.350000</td>\n",
       "      <td>208.901597</td>\n",
       "      <td>0.0</td>\n",
       "      <td>338.00</td>\n",
       "      <td>480.0</td>\n",
       "      <td>576.00</td>\n",
       "      <td>1390.0</td>\n",
       "    </tr>\n",
       "    <tr>\n",
       "      <th>WoodDeckSF</th>\n",
       "      <td>1000.0</td>\n",
       "      <td>97.353000</td>\n",
       "      <td>124.392314</td>\n",
       "      <td>0.0</td>\n",
       "      <td>0.00</td>\n",
       "      <td>0.0</td>\n",
       "      <td>171.25</td>\n",
       "      <td>857.0</td>\n",
       "    </tr>\n",
       "    <tr>\n",
       "      <th>OpenPorchSF</th>\n",
       "      <td>1000.0</td>\n",
       "      <td>47.669000</td>\n",
       "      <td>67.988557</td>\n",
       "      <td>0.0</td>\n",
       "      <td>0.00</td>\n",
       "      <td>24.0</td>\n",
       "      <td>70.00</td>\n",
       "      <td>523.0</td>\n",
       "    </tr>\n",
       "    <tr>\n",
       "      <th>EnclosedPorch</th>\n",
       "      <td>1000.0</td>\n",
       "      <td>21.413000</td>\n",
       "      <td>60.696528</td>\n",
       "      <td>0.0</td>\n",
       "      <td>0.00</td>\n",
       "      <td>0.0</td>\n",
       "      <td>0.00</td>\n",
       "      <td>552.0</td>\n",
       "    </tr>\n",
       "    <tr>\n",
       "      <th>3SsnPorch</th>\n",
       "      <td>1000.0</td>\n",
       "      <td>3.703000</td>\n",
       "      <td>30.915733</td>\n",
       "      <td>0.0</td>\n",
       "      <td>0.00</td>\n",
       "      <td>0.0</td>\n",
       "      <td>0.00</td>\n",
       "      <td>508.0</td>\n",
       "    </tr>\n",
       "    <tr>\n",
       "      <th>ScreenPorch</th>\n",
       "      <td>1000.0</td>\n",
       "      <td>15.055000</td>\n",
       "      <td>55.467744</td>\n",
       "      <td>0.0</td>\n",
       "      <td>0.00</td>\n",
       "      <td>0.0</td>\n",
       "      <td>0.00</td>\n",
       "      <td>410.0</td>\n",
       "    </tr>\n",
       "    <tr>\n",
       "      <th>PoolArea</th>\n",
       "      <td>1000.0</td>\n",
       "      <td>1.160000</td>\n",
       "      <td>26.103329</td>\n",
       "      <td>0.0</td>\n",
       "      <td>0.00</td>\n",
       "      <td>0.0</td>\n",
       "      <td>0.00</td>\n",
       "      <td>648.0</td>\n",
       "    </tr>\n",
       "    <tr>\n",
       "      <th>MiscVal</th>\n",
       "      <td>1000.0</td>\n",
       "      <td>45.384000</td>\n",
       "      <td>525.449337</td>\n",
       "      <td>0.0</td>\n",
       "      <td>0.00</td>\n",
       "      <td>0.0</td>\n",
       "      <td>0.00</td>\n",
       "      <td>15500.0</td>\n",
       "    </tr>\n",
       "    <tr>\n",
       "      <th>MoSold</th>\n",
       "      <td>1000.0</td>\n",
       "      <td>6.307000</td>\n",
       "      <td>2.691095</td>\n",
       "      <td>1.0</td>\n",
       "      <td>5.00</td>\n",
       "      <td>6.0</td>\n",
       "      <td>8.00</td>\n",
       "      <td>12.0</td>\n",
       "    </tr>\n",
       "    <tr>\n",
       "      <th>YrSold</th>\n",
       "      <td>1000.0</td>\n",
       "      <td>2007.830000</td>\n",
       "      <td>1.326974</td>\n",
       "      <td>2006.0</td>\n",
       "      <td>2007.00</td>\n",
       "      <td>2008.0</td>\n",
       "      <td>2009.00</td>\n",
       "      <td>2010.0</td>\n",
       "    </tr>\n",
       "    <tr>\n",
       "      <th>SalePrice</th>\n",
       "      <td>1000.0</td>\n",
       "      <td>182284.451000</td>\n",
       "      <td>80291.215207</td>\n",
       "      <td>34900.0</td>\n",
       "      <td>130000.00</td>\n",
       "      <td>163995.0</td>\n",
       "      <td>215000.00</td>\n",
       "      <td>755000.0</td>\n",
       "    </tr>\n",
       "  </tbody>\n",
       "</table>\n",
       "</div>"
      ],
      "text/plain": [
       "                count           mean           std      min        25%  \\\n",
       "MSSubClass     1000.0      56.880000     42.256375     20.0      20.00   \n",
       "LotFrontage     827.0      69.955260     23.202690     21.0      60.00   \n",
       "LotArea        1000.0   10691.176000  11412.668294   1300.0    7585.25   \n",
       "OverallQual    1000.0       6.125000      1.383217      1.0       5.00   \n",
       "OverallCond    1000.0       5.587000      1.108901      1.0       5.00   \n",
       "YearBuilt      1000.0    1971.633000     30.007945   1880.0    1954.00   \n",
       "YearRemodAdd   1000.0    1985.279000     20.412296   1950.0    1967.00   \n",
       "MasVnrArea      994.0     109.225352    188.885856      0.0       0.00   \n",
       "BsmtFinSF1     1000.0     445.214000    442.394927      0.0       0.00   \n",
       "BsmtFinSF2     1000.0      48.301000    165.788070      0.0       0.00   \n",
       "BsmtUnfSF      1000.0     567.797000    444.842319      0.0     226.50   \n",
       "TotalBsmtSF    1000.0    1061.312000    421.945889      0.0     796.00   \n",
       "1stFlrSF       1000.0    1156.953000    375.215801    334.0     876.75   \n",
       "2ndFlrSF       1000.0     347.066000    437.882737      0.0       0.00   \n",
       "LowQualFinSF   1000.0       6.474000     51.115733      0.0       0.00   \n",
       "GrLivArea      1000.0    1510.493000    512.296179    334.0    1125.75   \n",
       "BsmtFullBath   1000.0       0.430000      0.524762      0.0       0.00   \n",
       "BsmtHalfBath   1000.0       0.058000      0.242270      0.0       0.00   \n",
       "FullBath       1000.0       1.566000      0.551315      0.0       1.00   \n",
       "HalfBath       1000.0       0.386000      0.499253      0.0       0.00   \n",
       "BedroomAbvGr   1000.0       2.855000      0.814026      0.0       2.00   \n",
       "KitchenAbvGr   1000.0       1.047000      0.225481      0.0       1.00   \n",
       "TotRmsAbvGrd   1000.0       6.495000      1.608901      2.0       5.00   \n",
       "Fireplaces     1000.0       0.610000      0.649863      0.0       0.00   \n",
       "GarageYrBlt     944.0    1978.681144     24.792266   1900.0    1961.00   \n",
       "GarageCars     1000.0       1.765000      0.743187      0.0       1.00   \n",
       "GarageArea     1000.0     473.350000    208.901597      0.0     338.00   \n",
       "WoodDeckSF     1000.0      97.353000    124.392314      0.0       0.00   \n",
       "OpenPorchSF    1000.0      47.669000     67.988557      0.0       0.00   \n",
       "EnclosedPorch  1000.0      21.413000     60.696528      0.0       0.00   \n",
       "3SsnPorch      1000.0       3.703000     30.915733      0.0       0.00   \n",
       "ScreenPorch    1000.0      15.055000     55.467744      0.0       0.00   \n",
       "PoolArea       1000.0       1.160000     26.103329      0.0       0.00   \n",
       "MiscVal        1000.0      45.384000    525.449337      0.0       0.00   \n",
       "MoSold         1000.0       6.307000      2.691095      1.0       5.00   \n",
       "YrSold         1000.0    2007.830000      1.326974   2006.0    2007.00   \n",
       "SalePrice      1000.0  182284.451000  80291.215207  34900.0  130000.00   \n",
       "\n",
       "                    50%        75%       max  \n",
       "MSSubClass         50.0      70.00     190.0  \n",
       "LotFrontage        70.0      80.00     313.0  \n",
       "LotArea          9451.0   11628.50  215245.0  \n",
       "OverallQual         6.0       7.00      10.0  \n",
       "OverallCond         5.0       6.00       9.0  \n",
       "YearBuilt        1974.0    2000.25    2010.0  \n",
       "YearRemodAdd     1994.0    2004.00    2010.0  \n",
       "MasVnrArea          0.0     174.75    1600.0  \n",
       "BsmtFinSF1        384.5     725.00    2260.0  \n",
       "BsmtFinSF2          0.0       0.00    1474.0  \n",
       "BsmtUnfSF         474.0     808.00    2336.0  \n",
       "TotalBsmtSF      1004.0    1305.50    3206.0  \n",
       "1stFlrSF         1087.0    1389.50    3228.0  \n",
       "2ndFlrSF            0.0     728.25    1872.0  \n",
       "LowQualFinSF        0.0       0.00     572.0  \n",
       "GrLivArea        1456.0    1774.25    4676.0  \n",
       "BsmtFullBath        0.0       1.00       3.0  \n",
       "BsmtHalfBath        0.0       0.00       2.0  \n",
       "FullBath            2.0       2.00       3.0  \n",
       "HalfBath            0.0       1.00       2.0  \n",
       "BedroomAbvGr        3.0       3.00       8.0  \n",
       "KitchenAbvGr        1.0       1.00       3.0  \n",
       "TotRmsAbvGrd        6.0       7.00      14.0  \n",
       "Fireplaces          1.0       1.00       3.0  \n",
       "GarageYrBlt      1980.5    2002.00    2010.0  \n",
       "GarageCars          2.0       2.00       4.0  \n",
       "GarageArea        480.0     576.00    1390.0  \n",
       "WoodDeckSF          0.0     171.25     857.0  \n",
       "OpenPorchSF        24.0      70.00     523.0  \n",
       "EnclosedPorch       0.0       0.00     552.0  \n",
       "3SsnPorch           0.0       0.00     508.0  \n",
       "ScreenPorch         0.0       0.00     410.0  \n",
       "PoolArea            0.0       0.00     648.0  \n",
       "MiscVal             0.0       0.00   15500.0  \n",
       "MoSold              6.0       8.00      12.0  \n",
       "YrSold           2008.0    2009.00    2010.0  \n",
       "SalePrice      163995.0  215000.00  755000.0  "
      ]
     },
     "execution_count": 8,
     "metadata": {},
     "output_type": "execute_result"
    }
   ],
   "source": [
    "df_train.describe().T"
   ]
  },
  {
   "cell_type": "code",
   "execution_count": 9,
   "id": "677694c6",
   "metadata": {
    "ExecuteTime": {
     "end_time": "2023-02-25T00:53:49.590224Z",
     "start_time": "2023-02-25T00:53:49.273969Z"
    },
    "colab": {
     "base_uri": "https://localhost:8080/",
     "height": 330
    },
    "id": "677694c6",
    "outputId": "7bde165f-11d9-4582-e1cd-1badec84d36c"
   },
   "outputs": [
    {
     "name": "stdout",
     "output_type": "stream",
     "text": [
      "Skewness: 1.736195\n",
      "Kurtosis: 5.311073\n"
     ]
    },
    {
     "data": {
      "image/png": "[encoded data removed]",
      "text/plain": [
       "<Figure size 640x480 with 1 Axes>"
      ]
     },
     "metadata": {
      "image/png": {
       "height": 490,
       "width": 624
      }
     },
     "output_type": "display_data"
    }
   ],
   "source": [
    "# Distribution of Target Variable\n",
    "# checking the target variables for distribution\n",
    "sns.distplot(df_train['SalePrice'])\n",
    "plt.axvline(x=df_train['SalePrice'].mean(), linestyle='--', linewidth=2)\n",
    "plt.title('Sales')\n",
    "\n",
    "print(\"Skewness: %f\" % abs(df_train['SalePrice']).skew())\n",
    "print(\"Kurtosis: %f\" % abs(df_train['SalePrice']).kurt())"
   ]
  },
  {
   "cell_type": "code",
   "execution_count": null,
   "id": "841935d7",
   "metadata": {
    "ExecuteTime": {
     "start_time": "2023-02-25T00:53:45.572Z"
    },
    "colab": {
     "base_uri": "https://localhost:8080/",
     "height": 1000
    },
    "id": "841935d7",
    "outputId": "051e0815-861d-4db8-9e20-c8250b676514"
   },
   "outputs": [],
   "source": [
    "# Finding numeric features\n",
    "num_cols = [feature for feature in df_train.columns if df_train[feature].dtypes != 'O']\n",
    "\n",
    "# Visualising Numericcal predictor variables with Target Variables\n",
    "fig, axs = plt.subplots(ncols=3,figsize=(12, 120))\n",
    "plt.subplots_adjust(right=2)\n",
    "plt.subplots_adjust(top=2)\n",
    "sns.color_palette(\"husl\", 8)\n",
    "\n",
    "for i, feature in enumerate(list(df_train[num_cols]), 1):\n",
    "    plt.subplot(len(list(num_cols)), 3, i)\n",
    "    sns.scatterplot(x=feature, y='SalePrice', hue='SalePrice', palette='Blues', data=df_train)\n",
    "        \n",
    "    plt.xlabel('{}'.format(feature), size=15,labelpad=12.5)\n",
    "    plt.ylabel('SalePrice', size=15, labelpad=12.5)\n",
    "    \n",
    "    for j in range(2):\n",
    "        plt.tick_params(axis='x', labelsize=12)\n",
    "        plt.tick_params(axis='y', labelsize=12)\n",
    "    \n",
    "    plt.legend(loc='best', prop={'size': 10})\n",
    "        \n",
    "plt.show()"
   ]
  },
  {
   "cell_type": "code",
   "execution_count": null,
   "id": "68993a8e",
   "metadata": {
    "ExecuteTime": {
     "start_time": "2023-02-25T00:53:45.573Z"
    },
    "colab": {
     "base_uri": "https://localhost:8080/",
     "height": 1000
    },
    "id": "68993a8e",
    "outputId": "8068bb87-49e6-4f16-ede5-2b74f2d0da66"
   },
   "outputs": [],
   "source": [
    "# Finding categorical features\n",
    "cat_cols = [feature for feature in df_train.columns if df_train[feature].dtypes == 'O']\n",
    "\n",
    "##Visualising Categorical predictor variables with Target Variables\n",
    "def facetgrid_boxplot(x, y, **kwargs):\n",
    "    sns.boxplot(x=x, y=y)\n",
    "    x=plt.xticks(rotation=90)\n",
    "    \n",
    "f = pd.melt(df_train, id_vars=['SalePrice'], value_vars=sorted(df_train[cat_cols]))\n",
    "g = sns.FacetGrid(f, col=\"variable\", col_wrap=3, sharex=False, sharey=False, size=5)\n",
    "g = g.map(facetgrid_boxplot, \"value\", \"SalePrice\")"
   ]
  },
  {
   "cell_type": "code",
   "execution_count": null,
   "id": "b6e76092",
   "metadata": {
    "ExecuteTime": {
     "start_time": "2023-02-25T00:53:45.575Z"
    },
    "colab": {
     "base_uri": "https://localhost:8080/",
     "height": 1000
    },
    "id": "b6e76092",
    "outputId": "79df35a2-d105-468f-bb68-961556db3e30",
    "scrolled": false
   },
   "outputs": [],
   "source": [
    "# correlation of features\n",
    "plt.figure(figsize=(30,20))\n",
    "sns.heatmap(df_train.corr(), cmap=\"RdBu\",annot=True)\n",
    "plt.title(\"Correlations Between Variables\", size=15)\n",
    "plt.show()"
   ]
  },
  {
   "cell_type": "code",
   "execution_count": null,
   "id": "73fbc2bd",
   "metadata": {
    "ExecuteTime": {
     "start_time": "2023-02-25T00:53:45.577Z"
    },
    "colab": {
     "base_uri": "https://localhost:8080/",
     "height": 394
    },
    "id": "73fbc2bd",
    "outputId": "8507d5d0-041a-4cf7-bb71-ad528e0e33bb"
   },
   "outputs": [],
   "source": [
    "corr = df_train.corr()\n",
    "corr_target = pd.DataFrame(corr['SalePrice'][(corr['SalePrice']>= 0.5) |(corr['SalePrice'] <= -0.5)])\n",
    "corr_target.sort_values(by=['SalePrice'], ascending=False)\n"
   ]
  },
  {
   "cell_type": "markdown",
   "id": "6806ce8a",
   "metadata": {
    "id": "6806ce8a"
   },
   "source": [
    "# Data Cleaning"
   ]
  },
  {
   "cell_type": "code",
   "execution_count": null,
   "id": "76baabe7",
   "metadata": {
    "ExecuteTime": {
     "start_time": "2023-02-25T00:53:45.579Z"
    },
    "id": "76baabe7",
    "scrolled": true
   },
   "outputs": [],
   "source": [
    "y = df_train['SalePrice']\n",
    "train_df = df_train.drop(['SalePrice'], axis=1)"
   ]
  },
  {
   "cell_type": "code",
   "execution_count": null,
   "id": "e529dbb1",
   "metadata": {
    "ExecuteTime": {
     "start_time": "2023-02-25T00:53:45.580Z"
    },
    "colab": {
     "base_uri": "https://localhost:8080/"
    },
    "id": "e529dbb1",
    "outputId": "e1b34158-d21b-4119-a15f-30acef5c2017"
   },
   "outputs": [],
   "source": [
    "train_df.shape"
   ]
  },
  {
   "cell_type": "markdown",
   "id": "602c52c0",
   "metadata": {
    "id": "602c52c0"
   },
   "source": [
    "## Missing Value "
   ]
  },
  {
   "cell_type": "code",
   "execution_count": null,
   "id": "b3889e3c",
   "metadata": {
    "ExecuteTime": {
     "start_time": "2023-02-25T00:53:45.582Z"
    },
    "colab": {
     "base_uri": "https://localhost:8080/",
     "height": 650
    },
    "id": "b3889e3c",
    "outputId": "73985751-b38c-45e9-dbba-cccbe7035dbf"
   },
   "outputs": [],
   "source": [
    "def missing_zero_values_table(train):\n",
    "\n",
    "        zero_val = (train == 0.00).astype(int).sum(axis=0)\n",
    "        mis_val = train.isnull().sum()\n",
    "        mis_val_percent = 100 * train.isnull().sum() / len(train)\n",
    "        missing_table = pd.concat([zero_val, mis_val, mis_val_percent], axis=1)\n",
    "        missing_table = missing_table.rename(\n",
    "        columns = {0 : 'Zero Values', 1 : 'Missing Values', 2 : '% of Missing Values'})\n",
    "        missing_table['Data Type'] = train.dtypes\n",
    "        missing_table = missing_table[missing_table.iloc[:,1] != 0].sort_values('% of Missing Values', ascending=False).round(1)\n",
    "        print (\"Selected dataframe has \" + str(train.shape[1]) + \" columns and \" + str(train.shape[0]) + \" Rows.\\n\"      \n",
    "            \"There are \" + str(missing_table.shape[0]) + \" columns that have missing values.\")\n",
    "        return missing_table\n",
    "\n",
    "missing_zero_values_table(train_df)\n",
    "\n",
    "\n"
   ]
  },
  {
   "cell_type": "code",
   "execution_count": null,
   "id": "be2a84c6",
   "metadata": {
    "ExecuteTime": {
     "start_time": "2023-02-25T00:53:45.584Z"
    },
    "id": "be2a84c6"
   },
   "outputs": [],
   "source": [
    "# Columns with 40% or more missing values are excluded from the analysis.\n",
    "# PoolQC, MiscFeature, Alley, Fence, FireplaceQu has a lot of missing values and it is categorical columns so remove it\n",
    "train_df = train_df.drop(['PoolQC', 'MiscFeature', 'Fence','Alley', 'FireplaceQu'], axis=1)"
   ]
  },
  {
   "cell_type": "code",
   "execution_count": null,
   "id": "8b4a9443",
   "metadata": {
    "ExecuteTime": {
     "start_time": "2023-02-25T00:53:45.585Z"
    },
    "colab": {
     "base_uri": "https://localhost:8080/"
    },
    "id": "8b4a9443",
    "outputId": "e234dd8a-7556-4425-f728-86026b5e890e"
   },
   "outputs": [],
   "source": [
    "# Classifing Variables to facilitate processing according to variable types.\n",
    "\n",
    "# list of numerical variables\n",
    "num_cols = [feature for feature in train_df.columns if train_df[feature].dtypes != 'O']\n",
    "\n",
    "# list of categorical variables\n",
    "cat_cols = [feature for feature in train_df.columns if train_df[feature].dtypes == 'O']\n",
    "\n",
    "#print('Number of date variables: ', len(date_cols))\n",
    "print('Number of numerical variables: ', len(num_cols))\n",
    "print('Number of categorical variables: ', len(cat_cols))"
   ]
  },
  {
   "cell_type": "code",
   "execution_count": null,
   "id": "cc9e45da",
   "metadata": {
    "ExecuteTime": {
     "start_time": "2023-02-25T00:53:45.587Z"
    },
    "colab": {
     "base_uri": "https://localhost:8080/",
     "height": 85
    },
    "id": "cc9e45da",
    "outputId": "db4fe086-ebfb-4f51-d1fb-0a424002a70e"
   },
   "outputs": [],
   "source": [
    "from sklearn.impute import SimpleImputer\n",
    "\n",
    "# Replace missing values by median values\n",
    "train_df[num_cols] = SimpleImputer(strategy='median').fit_transform(train_df[num_cols])\n",
    "# Replace missing values by 'None'\n",
    "train_df[cat_cols] = train_df[cat_cols].fillna('None')\n",
    "\n",
    "# results\n",
    "missing_zero_values_table(train_df)"
   ]
  },
  {
   "cell_type": "code",
   "execution_count": null,
   "id": "512945ea",
   "metadata": {
    "ExecuteTime": {
     "start_time": "2023-02-25T00:53:45.589Z"
    },
    "colab": {
     "base_uri": "https://localhost:8080/",
     "height": 488
    },
    "id": "512945ea",
    "outputId": "26775e70-bc17-452f-e70e-7e04824fb662"
   },
   "outputs": [],
   "source": [
    "# make a pipeline\n",
    "from sklearn.base import BaseEstimator, TransformerMixin\n",
    "\n",
    "\n",
    "class Dropper(BaseEstimator, TransformerMixin):\n",
    "    def fit(self, X, y=None):\n",
    "        return self\n",
    "    def transform(self, X):\n",
    "        return     X.drop(['PoolQC', 'MiscFeature', 'Fence','Alley', 'FireplaceQu'], axis=1)\n",
    " \n",
    " \n",
    "class Imputer(BaseEstimator, TransformerMixin):\n",
    "    def fit(self, X, y=None):\n",
    "        return self\n",
    "    def transform(self, X):\n",
    "        # list of numerical variables\n",
    "        num_cols = [feature for feature in X.columns if X[feature].dtypes != 'O']\n",
    "        # list of categorical variables\n",
    "        cat_cols = [feature for feature in X.columns if X[feature].dtypes == 'O']\n",
    "        # Replace missing values by median values\n",
    "        X[num_cols] = SimpleImputer(strategy='median').fit_transform(X[num_cols])\n",
    "        # Replace missing values by 'None'\n",
    "        X[cat_cols] = X[cat_cols].fillna('None')\n",
    "        return X\n",
    "    \n",
    "pipe_Cleaning = Pipeline([\n",
    "    (\"dropper\", Dropper()),\n",
    "    (\"imputer\", Imputer())\n",
    "])\n",
    "\n",
    "pipe_Cleaning.fit_transform(df_train)"
   ]
  },
  {
   "cell_type": "markdown",
   "id": "e52cf296",
   "metadata": {
    "id": "e52cf296"
   },
   "source": [
    "# Features Selection"
   ]
  },
  {
   "cell_type": "markdown",
   "id": "0d1b3840",
   "metadata": {
    "id": "0d1b3840"
   },
   "source": [
    "## Removing correlated features"
   ]
  },
  {
   "cell_type": "code",
   "execution_count": null,
   "id": "0e4034bb",
   "metadata": {
    "ExecuteTime": {
     "start_time": "2023-02-25T00:53:45.591Z"
    },
    "colab": {
     "base_uri": "https://localhost:8080/"
    },
    "id": "0e4034bb",
    "outputId": "6930e262-68c0-4c1c-d81f-4df3ba2c3e32"
   },
   "outputs": [],
   "source": [
    "print('Train Data Shape:',train_df.shape) #train set shape\n",
    "\n",
    "num_cols = [feature for feature in train_df.columns if train_df[feature].dtypes != 'O']\n",
    "cat_cols = [feature for feature in train_df.columns if train_df[feature].dtypes == 'O']\n",
    "\n",
    "X_train, X_test, y_train, y_test = train_test_split(train_df[num_cols],y,\n",
    "    test_size=0.3,\n",
    "    random_state=0)\n",
    "\n",
    "X_train.shape, X_test.shape\n",
    "\n",
    "# find and remove correlated features\n",
    "def correlation(dataset, threshold):\n",
    "    col_corr = set()  # Set of all the names of correlated columns\n",
    "    corr_matrix = dataset.corr()\n",
    "    for i in range(len(corr_matrix.columns)):\n",
    "        for j in range(i):\n",
    "            if abs(corr_matrix.iloc[i, j]) > threshold: # we are interested in absolute coeff value\n",
    "                colname = corr_matrix.columns[i]  # getting the name of column\n",
    "                col_corr.add(colname)\n",
    "    return col_corr\n",
    "\n",
    "corr_features = correlation(X_train, 0.8)\n",
    "print('correlated features: ', len(set(corr_features)) )\n",
    "corr_features"
   ]
  },
  {
   "cell_type": "code",
   "execution_count": null,
   "id": "88db3024",
   "metadata": {
    "ExecuteTime": {
     "start_time": "2023-02-25T00:53:45.593Z"
    },
    "colab": {
     "base_uri": "https://localhost:8080/"
    },
    "id": "88db3024",
    "outputId": "710b9ce8-131f-4a64-aab6-ff88fbc04e8c"
   },
   "outputs": [],
   "source": [
    "# removed correlated  features\n",
    "X_train.drop(labels=corr_features, axis=1, inplace=True)\n",
    "X_test.drop(labels=corr_features, axis=1, inplace=True)\n",
    "\n",
    "X_train.shape, X_test.shape"
   ]
  },
  {
   "cell_type": "markdown",
   "id": "6341de02",
   "metadata": {
    "id": "6341de02"
   },
   "source": [
    "## Features Selection by Sequential Forward Selection (numerical data)"
   ]
  },
  {
   "cell_type": "code",
   "execution_count": null,
   "id": "f283ce49",
   "metadata": {
    "ExecuteTime": {
     "start_time": "2023-02-25T00:53:45.595Z"
    },
    "id": "f283ce49",
    "scrolled": true
   },
   "outputs": [],
   "source": [
    "#step forward feature selection\n",
    "# sfs1 = SFS(RandomForestRegressor(), \n",
    "#            k_features=10, \n",
    "#            forward=True, \n",
    "#            floating=False, \n",
    "#            verbose=2,\n",
    "#            scoring='r2',\n",
    "#            cv=3)\n",
    "\n",
    "# sfs1 = sfs1.fit(np.array(X_train), y_train)\n",
    "\n",
    "#select_cols1 = X_train.columns[list(sfs1.k_feature_idx_)].tolist()\n",
    "#select_cols1\n",
    "select_cols1 = ['LotArea','OverallQual','OverallCond','YearBuilt','BsmtFinSF1',\n",
    "                 'BsmtFinSF2','BsmtUnfSF','2ndFlrSF','GrLivArea','GarageCars']"
   ]
  },
  {
   "cell_type": "markdown",
   "id": "1b3fd30e",
   "metadata": {
    "id": "1b3fd30e"
   },
   "source": [
    "## Features Selection by Mutual Information Selection (categorical data)"
   ]
  },
  {
   "cell_type": "code",
   "execution_count": null,
   "id": "64161d5e",
   "metadata": {
    "ExecuteTime": {
     "start_time": "2023-02-25T00:53:45.597Z"
    },
    "id": "64161d5e"
   },
   "outputs": [],
   "source": [
    "def make_mi_scores(X, y):\n",
    "    X = X.copy()\n",
    "    for colname in X.select_dtypes([\"object\", \"category\"]):\n",
    "        X[colname], _ = X[colname].factorize()\n",
    "    # All discrete features should now have integer dtypes\n",
    "    discrete_features = [pd.api.types.is_integer_dtype(t) for t in X.dtypes]\n",
    "    mi_scores = mutual_info_regression(X, y, discrete_features=discrete_features, random_state=0)\n",
    "    mi_scores = pd.Series(mi_scores, name=\"MI Scores\", index=X.columns)\n",
    "    mi_scores = mi_scores.sort_values(ascending=False)\n",
    "    return mi_scores\n",
    "\n",
    "\n",
    "def plot_mi_scores(scores):\n",
    "    scores = scores.sort_values(ascending=True)\n",
    "    width = np.arange(len(scores))\n",
    "    ticks = list(scores.index)\n",
    "    plt.barh(width, scores)\n",
    "    plt.yticks(width, ticks)\n",
    "    plt.title(\"Mutual Information Scores\")"
   ]
  },
  {
   "cell_type": "code",
   "execution_count": null,
   "id": "4d2c5480",
   "metadata": {
    "ExecuteTime": {
     "start_time": "2023-02-25T00:53:45.598Z"
    },
    "colab": {
     "base_uri": "https://localhost:8080/"
    },
    "id": "4d2c5480",
    "outputId": "07952a97-840d-48ce-d22e-765d6d0dbfc8",
    "scrolled": true
   },
   "outputs": [],
   "source": [
    "mi_scores = make_mi_scores(train_df, y)\n",
    "mi_scores"
   ]
  },
  {
   "cell_type": "code",
   "execution_count": null,
   "id": "8654a6e9",
   "metadata": {
    "ExecuteTime": {
     "start_time": "2023-02-25T00:53:45.600Z"
    },
    "colab": {
     "base_uri": "https://localhost:8080/"
    },
    "id": "8654a6e9",
    "outputId": "9c4a6086-d350-41f4-8d9a-084a80b4d960"
   },
   "outputs": [],
   "source": [
    "mi_results = pd.DataFrame(mi_scores, index=train_df.columns).sort_values('MI Scores',ascending=False).reset_index()\n",
    "mi_results = mi_results[mi_results['index'].isin(cat_cols)].head(10)\n",
    "select_cols2 = mi_results['index'].tolist()\n",
    "select_cols2"
   ]
  },
  {
   "cell_type": "code",
   "execution_count": null,
   "id": "39b841c2",
   "metadata": {
    "ExecuteTime": {
     "start_time": "2023-02-25T00:53:45.602Z"
    },
    "colab": {
     "base_uri": "https://localhost:8080/"
    },
    "id": "39b841c2",
    "outputId": "3d6dbd4a-16e7-4bd8-fab2-3b6597477a4a"
   },
   "outputs": [],
   "source": [
    "train_df = train_df[select_cols1+select_cols2]\n",
    "train_df.shape"
   ]
  },
  {
   "cell_type": "code",
   "execution_count": null,
   "id": "96f6ca26",
   "metadata": {
    "ExecuteTime": {
     "start_time": "2023-02-25T00:53:45.603Z"
    },
    "colab": {
     "base_uri": "https://localhost:8080/",
     "height": 488
    },
    "id": "96f6ca26",
    "outputId": "b5c8fbf0-d74a-4d8a-9590-e84692e4f95f"
   },
   "outputs": [],
   "source": [
    "# make a pipeline\n",
    "class FeatureSelection(BaseEstimator, TransformerMixin):\n",
    "    def fit(self, X, y=None):\n",
    "        return self\n",
    "    def transform(self, X):\n",
    "        X = X.drop(['1stFlrSF', 'GarageArea', 'TotRmsAbvGrd'], axis=1)\n",
    "        col_by_sf = ['LotArea','OverallQual','OverallCond','YearBuilt','BsmtFinSF1',\n",
    "                     'BsmtFinSF2','BsmtUnfSF','2ndFlrSF','GrLivArea','GarageCars']\n",
    "        col_by_mi = ['Neighborhood','ExterQual','KitchenQual','BsmtQual','GarageFinish',\n",
    "                     'GarageType','Foundation','BsmtFinType1','HeatingQC','Exterior1st']\n",
    "        return X[select_cols1+select_cols2]\n",
    " \n",
    " \n",
    "pipe_FeatureSelection = Pipeline([\n",
    "    (\"feature\", FeatureSelection())\n",
    "])\n",
    "\n",
    "pipe_FeatureSelection.fit_transform(df_train)"
   ]
  },
  {
   "cell_type": "markdown",
   "id": "11f9667e",
   "metadata": {
    "id": "11f9667e"
   },
   "source": [
    "# Feature Engineering"
   ]
  },
  {
   "cell_type": "markdown",
   "id": "6386da77",
   "metadata": {
    "id": "6386da77"
   },
   "source": [
    "## label encoding and factorizing variables"
   ]
  },
  {
   "cell_type": "code",
   "execution_count": null,
   "id": "16b48628",
   "metadata": {
    "ExecuteTime": {
     "start_time": "2023-02-25T00:53:45.606Z"
    },
    "colab": {
     "base_uri": "https://localhost:8080/",
     "height": 224
    },
    "id": "16b48628",
    "outputId": "b773e322-3b6b-419b-f578-40f84990a864"
   },
   "outputs": [],
   "source": [
    "# Encode the label of the attributes represented for quality.\n",
    "num_cols = [feature for feature in train_df.columns if train_df[feature].dtypes != 'O']\n",
    "cat_cols = [feature for feature in train_df.columns if train_df[feature].dtypes == 'O']\n",
    "qual_lst = []\n",
    "for i in range(len(cat_cols)):\n",
    "    tmp = train_df[(train_df[cat_cols[i]] == 'Po') | \n",
    "                   (train_df[cat_cols[i]] == 'Fa') | \n",
    "                   (train_df[cat_cols[i]] == 'TA') | \n",
    "                   (train_df[cat_cols[i]] == 'Ex')]\n",
    "    if len(tmp)>0:\n",
    "        qual_lst.append(cat_cols[i])\n",
    "\n",
    "print(qual_lst)\n",
    "\n",
    "# df_train['ExterCond'].value_counts()# check the value\n",
    "\n",
    "# Ex   Excellent\n",
    "# Gd   Good\n",
    "# TA   Average/Typical\n",
    "# Fa   Fair\n",
    "# Po   Poor\n",
    "\n",
    "qualities = {'None' : 0, 'Po' : 1, 'Fa' : 2, 'TA' : 3, 'Gd' : 4, 'Ex' : 5}\n",
    "train_df[qual_lst] = train_df[qual_lst].replace(qualities) \n",
    "\n",
    "train_df[qual_lst].head()"
   ]
  },
  {
   "cell_type": "code",
   "execution_count": null,
   "id": "99c0715a",
   "metadata": {
    "ExecuteTime": {
     "start_time": "2023-02-25T00:53:45.607Z"
    },
    "id": "99c0715a"
   },
   "outputs": [],
   "source": [
    "# Changing some numeric variables into factors(object) - month \n",
    "# train_df['MoSold'] = train_df['MoSold'].astype(object)"
   ]
  },
  {
   "cell_type": "code",
   "execution_count": null,
   "id": "ecf1add1",
   "metadata": {
    "ExecuteTime": {
     "start_time": "2023-02-25T00:53:45.609Z"
    },
    "colab": {
     "base_uri": "https://localhost:8080/",
     "height": 270
    },
    "id": "ecf1add1",
    "outputId": "702fb190-d9ac-400f-e95c-aa3240e3b943",
    "scrolled": true
   },
   "outputs": [],
   "source": [
    "train_df.head(5)"
   ]
  },
  {
   "cell_type": "markdown",
   "id": "e2c9b886",
   "metadata": {
    "id": "e2c9b886"
   },
   "source": [
    "## Outlier"
   ]
  },
  {
   "cell_type": "code",
   "execution_count": null,
   "id": "f3d1ec27",
   "metadata": {
    "ExecuteTime": {
     "start_time": "2023-02-25T00:53:45.611Z"
    },
    "colab": {
     "base_uri": "https://localhost:8080/",
     "height": 1000
    },
    "id": "f3d1ec27",
    "outputId": "e6a5e4e0-8135-448e-fdd6-bc5b2848dd4a",
    "scrolled": true
   },
   "outputs": [],
   "source": [
    "# check outlier\n",
    "num_cols = [feature for feature in train_df.columns if train_df[feature].dtypes != 'O']\n",
    "cat_cols = [feature for feature in train_df.columns if train_df[feature].dtypes == 'O']\n",
    "\n",
    "data = train_df[num_cols]\n",
    "\n",
    "# visualising some more outliers in the data values\n",
    "fig, axs = plt.subplots(ncols=3,figsize=(12, 50))\n",
    "plt.subplots_adjust(right=2)\n",
    "plt.subplots_adjust(top=2)\n",
    "sns.color_palette(\"husl\", 8)\n",
    "\n",
    "for i, feature in enumerate(list(data), 1):\n",
    "    plt.subplot(len(list(num_cols)), 3, i)\n",
    "    sns.scatterplot(x=train_df[feature], y=y, hue=y, palette='Blues', data=data)\n",
    "        \n",
    "    plt.xlabel('{}'.format(feature), size=15,labelpad=12.5)\n",
    "    plt.ylabel('SalePrice', size=15, labelpad=12.5)\n",
    "    \n",
    "    for j in range(2):\n",
    "        plt.tick_params(axis='x', labelsize=12)\n",
    "        plt.tick_params(axis='y', labelsize=12)\n",
    "    \n",
    "    plt.legend(loc='best', prop={'size': 10})\n",
    "        \n",
    "plt.show()"
   ]
  },
  {
   "cell_type": "code",
   "execution_count": null,
   "id": "8ddbe836",
   "metadata": {
    "ExecuteTime": {
     "start_time": "2023-02-25T00:53:45.612Z"
    },
    "colab": {
     "base_uri": "https://localhost:8080/"
    },
    "id": "8ddbe836",
    "outputId": "778c9985-bf88-460d-c9af-04176cea0e62"
   },
   "outputs": [],
   "source": [
    "train_df.shape"
   ]
  },
  {
   "cell_type": "markdown",
   "id": "07a23ce4",
   "metadata": {
    "id": "07a23ce4"
   },
   "source": [
    "## Scaling"
   ]
  },
  {
   "cell_type": "code",
   "execution_count": null,
   "id": "38c36fe6",
   "metadata": {
    "ExecuteTime": {
     "start_time": "2023-02-25T00:53:45.614Z"
    },
    "colab": {
     "base_uri": "https://localhost:8080/",
     "height": 270
    },
    "id": "38c36fe6",
    "outputId": "44a6807e-4b44-430c-ede5-0347436abbc1"
   },
   "outputs": [],
   "source": [
    "Scaler = MinMaxScaler()\n",
    "scaled_data = Scaler.fit_transform(train_df[num_cols])\n",
    "train_df[num_cols] = pd.DataFrame(scaled_data, columns=train_df[num_cols].columns)\n",
    "train_df.head()"
   ]
  },
  {
   "cell_type": "code",
   "execution_count": null,
   "id": "6e6411f0",
   "metadata": {
    "ExecuteTime": {
     "start_time": "2023-02-25T00:53:45.615Z"
    },
    "colab": {
     "base_uri": "https://localhost:8080/",
     "height": 488
    },
    "id": "6e6411f0",
    "outputId": "edf88244-1b2e-4dab-87cc-6fa1895f6cf7"
   },
   "outputs": [],
   "source": [
    "# make a pipeline\n",
    "class LabelEncoder(BaseEstimator, TransformerMixin):\n",
    "    def fit(self, X, y=None):\n",
    "        return self\n",
    "    def transform(self, X):\n",
    "        cat_cols = [feature for feature in X.columns if X[feature].dtypes == 'O']\n",
    "        qual_lst = ['ExterQual', 'KitchenQual', 'BsmtQual', 'HeatingQC']\n",
    "        qualities = {'None' : 0, 'Po' : 1, 'Fa' : 2, 'TA' : 3, 'Gd' : 4, 'Ex' : 5}\n",
    "        X[qual_lst] = X[qual_lst].replace(qualities) \n",
    "        return X\n",
    "\n",
    "class MinMax(BaseEstimator, TransformerMixin):\n",
    "    def fit(self, X, y=None):\n",
    "        return self\n",
    "    def transform(self, X):\n",
    "        X2 = X.copy()\n",
    "        num_cols = [feature for feature in X.columns if X[feature].dtypes != 'O']\n",
    "        Scaler = MinMaxScaler()\n",
    "        X_scaled = Scaler.fit_transform(X[num_cols])\n",
    "        X2[num_cols] = pd.DataFrame(X_scaled, columns=X[num_cols].columns)\n",
    "        return X2\n",
    "\n",
    "\n",
    "pipe_FeatureEngineering = Pipeline([\n",
    "    (\"label\", LabelEncoder()),\n",
    "  #  ('Normalize', MinMax() )\n",
    "])\n",
    "\n",
    "pipe_FeatureEngineering.fit_transform(df_train)"
   ]
  },
  {
   "cell_type": "code",
   "execution_count": null,
   "id": "3d8eca1e",
   "metadata": {
    "ExecuteTime": {
     "start_time": "2023-02-25T00:53:45.617Z"
    },
    "colab": {
     "base_uri": "https://localhost:8080/"
    },
    "id": "3d8eca1e",
    "outputId": "f572abc6-4766-4dca-84e9-0493ad48395a"
   },
   "outputs": [],
   "source": [
    "#Stack all pipes for preprocessing\n",
    "preprocess_data = Pipeline([(\"Data Cleaning\",pipe_Cleaning),\n",
    "                            (\"Feature Selection\",pipe_FeatureSelection),\n",
    "                            (\"Feature Engineering\",pipe_FeatureEngineering)])\n",
    "preprocess_data"
   ]
  },
  {
   "cell_type": "code",
   "execution_count": null,
   "id": "173706aa",
   "metadata": {
    "ExecuteTime": {
     "start_time": "2023-02-25T00:53:45.619Z"
    },
    "colab": {
     "base_uri": "https://localhost:8080/"
    },
    "id": "173706aa",
    "outputId": "c3337f8c-ee48-41d3-e882-a7c2186f435d",
    "scrolled": true
   },
   "outputs": [],
   "source": [
    "preprocess_data.fit_transform(df_train).shape"
   ]
  },
  {
   "cell_type": "markdown",
   "id": "1bc52c87",
   "metadata": {
    "id": "1bc52c87"
   },
   "source": [
    "# Modeling"
   ]
  },
  {
   "cell_type": "markdown",
   "id": "4701f721",
   "metadata": {
    "id": "4701f721"
   },
   "source": [
    "## Split and Scaling data"
   ]
  },
  {
   "cell_type": "code",
   "execution_count": null,
   "id": "4d082758",
   "metadata": {
    "ExecuteTime": {
     "start_time": "2023-02-25T00:53:45.621Z"
    },
    "colab": {
     "base_uri": "https://localhost:8080/"
    },
    "id": "4d082758",
    "outputId": "479fafad-79ed-4464-e3eb-af8fee5467d0"
   },
   "outputs": [],
   "source": [
    "# prepare dataset for modeling\n",
    "# train_data = preprocess_data(df_train)\n",
    "data = preprocess_data.fit_transform(df_train.drop('SalePrice', axis=1))\n",
    "\n",
    "# onehot encoding : train and test set has different categories for each columns so it is encoded this right before traing\n",
    "ohe = OneHotEncoder(sparse=False, handle_unknown='ignore')\n",
    "data = ohe.fit_transform(data)\n",
    "\n",
    "# Scale for feature columns\n",
    "scaler_x = MinMaxScaler()\n",
    "data = scaler_x.fit_transform(data)\n",
    "\n",
    "# scale for target column\n",
    "scaler_y = MinMaxScaler()\n",
    "y = scaler_y.fit_transform(np.array(df_train['SalePrice']).reshape(-1,1))\n",
    "\n",
    "# split validation data from train set for validation\n",
    "X_train, X_val, y_train, y_val = train_test_split(data, y, test_size=0.3, random_state=101)\n",
    "\n",
    "X_train.shape, X_val.shape, y_train.shape, y_val.shape"
   ]
  },
  {
   "cell_type": "markdown",
   "id": "89d79f00",
   "metadata": {
    "id": "89d79f00"
   },
   "source": [
    "## Baseline Modeling"
   ]
  },
  {
   "cell_type": "code",
   "execution_count": null,
   "id": "6836e476",
   "metadata": {
    "ExecuteTime": {
     "start_time": "2023-02-25T00:53:45.623Z"
    },
    "colab": {
     "base_uri": "https://localhost:8080/"
    },
    "id": "6836e476",
    "outputId": "8fb7c0dc-2226-414e-9acc-5a1d8b12e3f7"
   },
   "outputs": [],
   "source": [
    "#Support Vector Regressor MODEL\n",
    "svrmodel = SVR()\n",
    "svrmodel.fit(X_train, y_train)\n",
    "svr_pred = svrmodel.predict(X_val)\n",
    "print('SUPPORT VECTOR REGRESSOR RMSE:', np.sqrt(mse(y_val, svr_pred))) \n",
    "\n",
    "#Gradient Boosting Regressor MODEL\n",
    "gbrmodel = GradientBoostingRegressor()  \n",
    "gbrmodel.fit(X_train, y_train)\n",
    "gbr_pred = gbrmodel.predict(X_val)\n",
    "print('GRADIENT BOOSTING REGRESSOR RMSE:', np.sqrt(mse(y_val, gbr_pred)))\n",
    "\n",
    "#DECISION TREE MODEL\n",
    "DTmodel = DecisionTreeRegressor(random_state = 100)\n",
    "DTmodel.fit(X_train, y_train)\n",
    "dtr_pred = DTmodel.predict(X_val)\n",
    "print('DECISION TREE MODEL RMSE:', np.sqrt(mse(y_val, dtr_pred))) \n",
    "\n",
    "#Random Forest Regressor MODEL\n",
    "rfmodel = RandomForestRegressor()\n",
    "rfmodel.fit(X_train, y_train)\n",
    "rf_pred = rfmodel.predict(X_val)\n",
    "print('RANDOM FOREST REGRESSOR  RMSE:', np.sqrt(mse(y_val, rf_pred))) \n",
    "\n",
    "#XGBOOST REGRESSOR MODEL\n",
    "xgmodel = xgb.XGBRegressor()\n",
    "xgmodel.fit(X_train, y_train)\n",
    "xg_pred = xgmodel.predict(X_val)\n",
    "print('XGBOOST REGRESSOR  RMSE:', np.sqrt(mse(y_val, xg_pred))) \n",
    "\n",
    "#LIGHTGBM REGRESSOR MODEL\n",
    "LGmodel = lgb.LGBMRegressor()\n",
    "LGmodel.fit(X_train, y_train)\n",
    "LG_pred = LGmodel.predict(X_val)\n",
    "print('LIGHTGBM REGRESSOR RMSE:', np.sqrt(mse(y_val, LG_pred))) "
   ]
  },
  {
   "cell_type": "markdown",
   "id": "e8043da4",
   "metadata": {
    "id": "e8043da4"
   },
   "source": [
    "## Hyper Parameter tuning"
   ]
  },
  {
   "cell_type": "markdown",
   "id": "88f1376b",
   "metadata": {
    "id": "88f1376b"
   },
   "source": [
    "I proceed with parameter tuning using the best performance XGB model."
   ]
  },
  {
   "cell_type": "code",
   "execution_count": null,
   "id": "Df8LuK56oSRc",
   "metadata": {
    "ExecuteTime": {
     "start_time": "2023-02-25T00:53:45.625Z"
    },
    "id": "Df8LuK56oSRc"
   },
   "outputs": [],
   "source": [
    "'''from sklearn.model_selection import GridSearchCV\n",
    "\n",
    "param_gb = {\n",
    "    'max_depth': range (2, 5, 8),\n",
    "    'n_estimators': range(50, 300, 50),\n",
    "    'learning_rate': [0.1, 0.01, 0.05]}\n",
    "\n",
    "grid_search_gb = GridSearchCV(estimator = GradientBoostingRegressor(),\n",
    "                           param_grid = param_gb, \n",
    "                           cv = 5,\n",
    "                           return_train_score=True)\n",
    "\n",
    "grid_search_gb.fit(X_train, y_train)\n",
    "\n",
    "grid_search_gb.best_params_'''\n",
    "\n",
    "gbr_params = {'learning_rate': 0.1, 'max_depth': 2, 'n_estimators': 250}"
   ]
  },
  {
   "cell_type": "code",
   "execution_count": null,
   "id": "XvDlfkFfqCuW",
   "metadata": {
    "ExecuteTime": {
     "start_time": "2023-02-25T00:53:45.627Z"
    },
    "id": "XvDlfkFfqCuW"
   },
   "outputs": [],
   "source": [
    "'''\n",
    "param_xgb = {\n",
    "        'n_estimators': [500, 1000,3000],\n",
    "        'max_depth': [3, 5, 7],\n",
    "        'min_samples_leaf': [1, 3, 5],\n",
    "        'min_samples_split': [1, 3, 5],\n",
    "        'learning_rate': [0.01, 0.1]}\n",
    "\n",
    "grid_search_xgb = GridSearchCV(estimator = XGBRegressor(loss='huber',max_features='sqrt'),\n",
    "                           param_grid = param_xgb, \n",
    "                           cv = 5,\n",
    "                           return_train_score=True)\n",
    "\n",
    "grid_search_xgb.fit(X_train, y_train)\n",
    "\n",
    "grid_search_xgb.best_params_'''\n",
    "\n",
    "xgb_params = {'n_estimators': 1000, 'max_depth':5, 'min_samples_leaf':5, 'min_samples_split':5, \n",
    "          'learning_rate': 0.01, 'loss': 'huber', 'max_features':'sqrt'}"
   ]
  },
  {
   "cell_type": "code",
   "execution_count": null,
   "id": "06d9b1b0",
   "metadata": {
    "ExecuteTime": {
     "start_time": "2023-02-25T00:53:45.628Z"
    },
    "colab": {
     "base_uri": "https://localhost:8080/"
    },
    "id": "06d9b1b0",
    "outputId": "f2b8d415-0a85-47ca-d176-2d184c86ee9e"
   },
   "outputs": [],
   "source": [
    "#XGBOOST REGRESSOR MODEL\n",
    "xgmodel2 = xgb.XGBRegressor(**xgb_params)\n",
    "xgmodel2.fit(X_train, y_train)\n",
    "xg_pred2 = xgmodel2.predict(X_val)\n",
    "print('XGBOOST REGRESSOR  RMSE:', np.sqrt(mse(y_val, xg_pred2))) \n",
    "\n",
    "#Gradient Boosting Regressor MODEL\n",
    "gbrmodel2 = GradientBoostingRegressor(**gbr_params) \n",
    "gbrmodel2.fit(X_train, y_train)\n",
    "gbr_pred2 = gbrmodel2.predict(X_val)\n",
    "print('GRADIENT BOOSTING REGRESSOR RMSE:', np.sqrt(mse(y_val, gbr_pred2)))"
   ]
  },
  {
   "cell_type": "markdown",
   "id": "e70c34c9",
   "metadata": {
    "id": "e70c34c9"
   },
   "source": [
    "## Stack up models\n"
   ]
  },
  {
   "cell_type": "code",
   "execution_count": null,
   "id": "201b0e39",
   "metadata": {
    "ExecuteTime": {
     "start_time": "2023-02-25T00:53:45.630Z"
    },
    "colab": {
     "base_uri": "https://localhost:8080/"
    },
    "id": "201b0e39",
    "outputId": "5c4655be-5d4e-4c81-e99c-3394c5af3c61"
   },
   "outputs": [],
   "source": [
    "# Stack up all the models above, optimized using xgboost\n",
    "stack_gen = StackingCVRegressor(regressors=(DTmodel,xgmodel, LGmodel, svrmodel, gbrmodel, rfmodel),\n",
    "                                meta_regressor=xgmodel,use_features_in_secondary=True)\n",
    "stack_gen.fit(X_train,y_train)\n",
    "stack_pred = stack_gen.predict(X_val)\n",
    "\n",
    "print('Stack up all the models RMSE:', np.sqrt(mse(y_val, stack_pred))) "
   ]
  },
  {
   "cell_type": "markdown",
   "id": "eb27f3c0",
   "metadata": {
    "id": "eb27f3c0"
   },
   "source": [
    "## Prediction of Test data"
   ]
  },
  {
   "cell_type": "code",
   "execution_count": null,
   "id": "bdfaa7a5",
   "metadata": {
    "ExecuteTime": {
     "start_time": "2023-02-25T00:53:45.632Z"
    },
    "colab": {
     "base_uri": "https://localhost:8080/"
    },
    "id": "bdfaa7a5",
    "outputId": "49cfcb53-e430-4204-8812-7c4009105f15"
   },
   "outputs": [],
   "source": [
    "test_data = preprocess_data.fit_transform(df_test)\n",
    "test_data = ohe.transform(test_data)\n",
    "test_data = scaler_x.transform(test_data)\n",
    "test_data.shape"
   ]
  },
  {
   "cell_type": "code",
   "execution_count": null,
   "id": "79cd3364",
   "metadata": {
    "ExecuteTime": {
     "start_time": "2023-02-25T00:53:45.633Z"
    },
    "colab": {
     "base_uri": "https://localhost:8080/"
    },
    "id": "79cd3364",
    "outputId": "06d01350-71aa-4f31-eb38-a57ac707afd4",
    "scrolled": true
   },
   "outputs": [],
   "source": [
    "y_pred = stack_gen.predict(test_data)\n",
    "y_pred"
   ]
  },
  {
   "cell_type": "code",
   "execution_count": null,
   "id": "1530d6e1",
   "metadata": {
    "ExecuteTime": {
     "start_time": "2023-02-25T00:53:45.635Z"
    },
    "colab": {
     "base_uri": "https://localhost:8080/"
    },
    "id": "1530d6e1",
    "outputId": "d20d7b20-6ab5-4d8f-b922-871b86837722"
   },
   "outputs": [],
   "source": [
    "rescaled_pred = scaler_y.inverse_transform(np.array(y_pred).reshape(-1,1))\n",
    "rescaled_pred = rescaled_pred.flatten().tolist()\n",
    "rescaled_pred"
   ]
  },
  {
   "cell_type": "markdown",
   "id": "1a11a65c",
   "metadata": {
    "id": "1a11a65c"
   },
   "source": [
    "# Submition File"
   ]
  },
  {
   "cell_type": "code",
   "execution_count": null,
   "id": "1675dda4",
   "metadata": {
    "ExecuteTime": {
     "start_time": "2023-02-25T00:53:45.637Z"
    },
    "colab": {
     "base_uri": "https://localhost:8080/",
     "height": 206
    },
    "id": "1675dda4",
    "outputId": "88f81199-4214-4eeb-a395-4cfb78f55987",
    "scrolled": true
   },
   "outputs": [],
   "source": [
    "# Save your predictions\n",
    "df_results = pd.DataFrame(index=list(range(1000,1460)),data={'SalePrice':rescaled_pred})\n",
    "df_results.to_csv(\"Evaluation/results.csv\", index_label='id')\n",
    "df_results.head()"
   ]
  },
  {
   "cell_type": "code",
   "execution_count": null,
   "id": "cab6f5b3",
   "metadata": {
    "id": "cab6f5b3"
   },
   "outputs": [],
   "source": []
  }
 ],
 "metadata": {
  "colab": {
   "provenance": []
  },
  "hide_input": false,
  "kernelspec": {
   "display_name": "Python 3 (ipykernel)",
   "language": "python",
   "name": "python3"
  },
  "language_info": {
   "codemirror_mode": {
    "name": "ipython",
    "version": 3
   },
   "file_extension": ".py",
   "mimetype": "text/x-python",
   "name": "python",
   "nbconvert_exporter": "python",
   "pygments_lexer": "ipython3",
   "version": "3.9.13"
  },
  "latex_envs": {
   "LaTeX_envs_menu_present": true,
   "autoclose": true,
   "autocomplete": true,
   "bibliofile": "biblio.bib",
   "cite_by": "apalike",
   "current_citInitial": 1,
   "eqLabelWithNumbers": true,
   "eqNumInitial": 1,
   "hotkeys": {
    "equation": "Ctrl-E",
    "itemize": "Ctrl-I"
   },
   "labels_anchors": false,
   "latex_user_defs": false,
   "report_style_numbering": false,
   "user_envs_cfg": false
  },
  "nbTranslate": {
   "displayLangs": [
    "*"
   ],
   "hotkey": "alt-t",
   "langInMainMenu": true,
   "sourceLang": "en",
   "targetLang": "fr",
   "useGoogleTranslate": true
  },
  "toc": {
   "base_numbering": 1,
   "nav_menu": {},
   "number_sections": true,
   "sideBar": true,
   "skip_h1_title": false,
   "title_cell": "Table of Contents",
   "title_sidebar": "Contents",
   "toc_cell": false,
   "toc_position": {
    "height": "calc(100% - 180px)",
    "left": "10px",
    "top": "150px",
    "width": "320px"
   },
   "toc_section_display": true,
   "toc_window_display": true
  },
  "varInspector": {
   "cols": {
    "lenName": 16,
    "lenType": 16,
    "lenVar": 40
   },
   "kernels_config": {
    "python": {
     "delete_cmd_postfix": "",
     "delete_cmd_prefix": "del ",
     "library": "var_list.py",
     "varRefreshCmd": "print(var_dic_list())"
    },
    "r": {
     "delete_cmd_postfix": ") ",
     "delete_cmd_prefix": "rm(",
     "library": "var_list.r",
     "varRefreshCmd": "cat(var_dic_list()) "
    }
   },
   "position": {
    "height": "330.85px",
    "left": "1147.5px",
    "right": "20px",
    "top": "120px",
    "width": "350px"
   },
   "types_to_exclude": [
    "module",
    "function",
    "builtin_function_or_method",
    "instance",
    "_Feature"
   ],
   "window_display": false
  }
 },
 "nbformat": 4,
 "nbformat_minor": 5
}
